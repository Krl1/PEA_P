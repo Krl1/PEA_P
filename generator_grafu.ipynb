{
 "cells": [
  {
   "cell_type": "code",
   "execution_count": 5,
   "metadata": {},
   "outputs": [],
   "source": [
    "import numpy as np"
   ]
  },
  {
   "cell_type": "code",
   "execution_count": 6,
   "metadata": {},
   "outputs": [],
   "source": [
    "n = 10\n",
    "min_value = 10\n",
    "max_value = 100"
   ]
  },
  {
   "cell_type": "markdown",
   "metadata": {},
   "source": [
    "# Asymetryczna"
   ]
  },
  {
   "cell_type": "code",
   "execution_count": 7,
   "metadata": {},
   "outputs": [
    {
     "data": {
      "text/plain": [
       "array([[-1, 26, 11, 90, 24, 35, 29, 26, 72, 58],\n",
       "       [85, -1, 98, 59, 97, 30, 17, 25, 89, 68],\n",
       "       [19, 30, -1, 19, 60, 45, 61, 82, 25, 57],\n",
       "       [12, 89, 51, -1, 96, 68, 99, 58, 23, 49],\n",
       "       [75, 14, 49, 69, -1, 94, 96, 22, 58, 18],\n",
       "       [45, 45, 91, 95, 82, -1, 95, 43, 29, 16],\n",
       "       [10, 67, 90, 22, 96, 29, -1, 22, 33, 20],\n",
       "       [27, 29, 19, 69, 19, 77, 13, -1, 56, 48],\n",
       "       [26, 36, 19, 21, 42, 13, 90, 21, -1, 68],\n",
       "       [55, 25, 59, 30, 56, 75, 71, 51, 35, -1]])"
      ]
     },
     "execution_count": 7,
     "metadata": {},
     "output_type": "execute_result"
    }
   ],
   "source": [
    "arr = np.random.randint(min_value,max_value, size=(n, n))\n",
    "for i in range(n):\n",
    "    arr[i,i]=-1\n",
    "arr"
   ]
  },
  {
   "cell_type": "markdown",
   "metadata": {},
   "source": [
    "# Symetryczna"
   ]
  },
  {
   "cell_type": "code",
   "execution_count": 8,
   "metadata": {},
   "outputs": [
    {
     "data": {
      "text/plain": [
       "array([[-1, 44, 68, 87, 28, 29, 38, 70, 15, 79],\n",
       "       [44, -1, 14, 21, 34, 68, 85, 38, 57, 31],\n",
       "       [68, 14, -1, 63, 25, 87, 62, 39, 53, 56],\n",
       "       [87, 21, 63, -1, 79, 29, 85, 46, 52, 14],\n",
       "       [28, 34, 25, 79, -1, 49, 84, 65, 12, 89],\n",
       "       [29, 68, 87, 29, 49, -1, 41, 80, 18, 97],\n",
       "       [38, 85, 62, 85, 84, 41, -1, 31, 18, 90],\n",
       "       [70, 38, 39, 46, 65, 80, 31, -1, 80, 78],\n",
       "       [15, 57, 53, 52, 12, 18, 18, 80, -1, 66],\n",
       "       [79, 31, 56, 14, 89, 97, 90, 78, 66, -1]])"
      ]
     },
     "execution_count": 8,
     "metadata": {},
     "output_type": "execute_result"
    }
   ],
   "source": [
    "arr = np.random.randint(min_value,max_value, size=(n, n))\n",
    "for i in range(n):\n",
    "    for j in range(i+1,n):\n",
    "        arr[i][j]=arr[j][i]\n",
    "    arr[i,i]=-1\n",
    "arr"
   ]
  },
  {
   "cell_type": "code",
   "execution_count": null,
   "metadata": {},
   "outputs": [],
   "source": []
  },
  {
   "cell_type": "code",
   "execution_count": null,
   "metadata": {},
   "outputs": [],
   "source": []
  }
 ],
 "metadata": {
  "kernelspec": {
   "display_name": "Python 3",
   "language": "python",
   "name": "python3"
  },
  "language_info": {
   "codemirror_mode": {
    "name": "ipython",
    "version": 3
   },
   "file_extension": ".py",
   "mimetype": "text/x-python",
   "name": "python",
   "nbconvert_exporter": "python",
   "pygments_lexer": "ipython3",
   "version": "3.7.4"
  }
 },
 "nbformat": 4,
 "nbformat_minor": 2
}
