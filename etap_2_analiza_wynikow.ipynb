{
 "cells": [
  {
   "cell_type": "markdown",
   "metadata": {},
   "source": [
    "# Analiza wyników\n",
    "Rozmiary analizowane: 21, 48, 71, 120, 323"
   ]
  },
  {
   "cell_type": "code",
   "execution_count": 1,
   "metadata": {},
   "outputs": [],
   "source": [
    "import pandas as pd\n",
    "import numpy as np"
   ]
  },
  {
   "cell_type": "code",
   "execution_count": 2,
   "metadata": {},
   "outputs": [],
   "source": [
    "from IPython.core.interactiveshell import InteractiveShell\n",
    "InteractiveShell.ast_node_interactivity = \"all\"\n",
    "pd.option_context('display.max_rows', 999, 'display.max_columns', 999);"
   ]
  },
  {
   "cell_type": "code",
   "execution_count": 3,
   "metadata": {},
   "outputs": [],
   "source": [
    "df_sa = pd.read_csv('simulated_annealing.csv')\n",
    "df_ts = pd.read_csv('tabu_search.csv')\n",
    "permutacja_map = {0: 'swap', 1: 'insert', 2:'invert'}\n",
    "schemat_map = {0:'liniowy', 1:'geometryczny', 2:'logarytmiczny'}\n",
    "df_sa['rodzaj permutacji'] = df_sa['nr_permutacji'].map(permutacja_map)\n",
    "df_sa['rodzaj schematu'] = df_sa['nr_schematu'].map(schemat_map)\n",
    "del df_sa['nr_permutacji']\n",
    "del df_sa['nr_schematu']\n",
    "df_sa = df_sa[['rozmiar','liczba_it','temp','rodzaj schematu','rodzaj permutacji','jakosc_wyniku']]\n",
    "df_ts['rodzaj permutacji'] = df_ts['nr_permutacji'].map(permutacja_map)\n",
    "del df_ts['nr_permutacji']\n",
    "df_ts = df_ts[['rozmiar','rozmiar_slownika_master','dlugosc_listy_tabu','kryterium_aspiracji','rodzaj permutacji','jakosc_wyniku']]"
   ]
  },
  {
   "cell_type": "markdown",
   "metadata": {},
   "source": [
    "# DF_SA"
   ]
  },
  {
   "cell_type": "code",
   "execution_count": 4,
   "metadata": {},
   "outputs": [
    {
     "data": {
      "text/html": [
       "<div>\n",
       "<style scoped>\n",
       "    .dataframe tbody tr th:only-of-type {\n",
       "        vertical-align: middle;\n",
       "    }\n",
       "\n",
       "    .dataframe tbody tr th {\n",
       "        vertical-align: top;\n",
       "    }\n",
       "\n",
       "    .dataframe thead th {\n",
       "        text-align: right;\n",
       "    }\n",
       "</style>\n",
       "<table border=\"1\" class=\"dataframe\">\n",
       "  <thead>\n",
       "    <tr style=\"text-align: right;\">\n",
       "      <th></th>\n",
       "      <th>rozmiar</th>\n",
       "      <th>liczba_it</th>\n",
       "      <th>temp</th>\n",
       "      <th>rodzaj schematu</th>\n",
       "      <th>rodzaj permutacji</th>\n",
       "      <th>jakosc_wyniku</th>\n",
       "    </tr>\n",
       "  </thead>\n",
       "  <tbody>\n",
       "    <tr>\n",
       "      <td>0</td>\n",
       "      <td>21</td>\n",
       "      <td>105</td>\n",
       "      <td>420</td>\n",
       "      <td>liniowy</td>\n",
       "      <td>swap</td>\n",
       "      <td>0.960951</td>\n",
       "    </tr>\n",
       "    <tr>\n",
       "      <td>1</td>\n",
       "      <td>21</td>\n",
       "      <td>105</td>\n",
       "      <td>420</td>\n",
       "      <td>liniowy</td>\n",
       "      <td>insert</td>\n",
       "      <td>0.960951</td>\n",
       "    </tr>\n",
       "    <tr>\n",
       "      <td>2</td>\n",
       "      <td>21</td>\n",
       "      <td>105</td>\n",
       "      <td>420</td>\n",
       "      <td>liniowy</td>\n",
       "      <td>invert</td>\n",
       "      <td>1.000000</td>\n",
       "    </tr>\n",
       "    <tr>\n",
       "      <td>3</td>\n",
       "      <td>21</td>\n",
       "      <td>105</td>\n",
       "      <td>420</td>\n",
       "      <td>geometryczny</td>\n",
       "      <td>swap</td>\n",
       "      <td>1.000000</td>\n",
       "    </tr>\n",
       "    <tr>\n",
       "      <td>4</td>\n",
       "      <td>21</td>\n",
       "      <td>105</td>\n",
       "      <td>420</td>\n",
       "      <td>geometryczny</td>\n",
       "      <td>insert</td>\n",
       "      <td>1.000000</td>\n",
       "    </tr>\n",
       "  </tbody>\n",
       "</table>\n",
       "</div>"
      ],
      "text/plain": [
       "   rozmiar  liczba_it  temp rodzaj schematu rodzaj permutacji  jakosc_wyniku\n",
       "0       21        105   420         liniowy              swap       0.960951\n",
       "1       21        105   420         liniowy            insert       0.960951\n",
       "2       21        105   420         liniowy            invert       1.000000\n",
       "3       21        105   420    geometryczny              swap       1.000000\n",
       "4       21        105   420    geometryczny            insert       1.000000"
      ]
     },
     "execution_count": 4,
     "metadata": {},
     "output_type": "execute_result"
    }
   ],
   "source": [
    "df_sa.head()"
   ]
  },
  {
   "cell_type": "markdown",
   "metadata": {},
   "source": [
    "## wg liczby iteracji\n",
    "$rozmiar*5, int(np.power(rozmiar, 3/2)), rozmiar*rozmiar$"
   ]
  },
  {
   "cell_type": "code",
   "execution_count": 5,
   "metadata": {},
   "outputs": [],
   "source": [
    "df_sa_it_rozmiar_5 = df_sa[df_sa['liczba_it']==df_sa['rozmiar']*5]\n",
    "df_sa_it_rozmiar_pow_32 = df_sa[df_sa['liczba_it']==np.power(df_sa['rozmiar'], 3/2).astype(int)]    \n",
    "df_sa_it_rozmiar_rozmiar = df_sa[df_sa['liczba_it']==df_sa['rozmiar']*df_sa['rozmiar']]"
   ]
  },
  {
   "cell_type": "code",
   "execution_count": 6,
   "metadata": {},
   "outputs": [
    {
     "name": "stdout",
     "output_type": "stream",
     "text": [
      "Rozmiar*5:     min: 0.177 mean: 0.825 max: 1.0\n",
      "Rozmiar^(3/2): min: 0.642 mean: 0.891 max: 1.0\n",
      "Rozmiar^2:     min: 0.642 mean: 0.894 max: 1.0\n"
     ]
    }
   ],
   "source": [
    "print('Rozmiar*5:    ','min:',round(df_sa_it_rozmiar_5['jakosc_wyniku'].min(),3), 'mean:',round(df_sa_it_rozmiar_5['jakosc_wyniku'].mean(),3),'max:',df_sa_it_rozmiar_5['jakosc_wyniku'].max())\n",
    "print('Rozmiar^(3/2):','min:',round(df_sa_it_rozmiar_pow_32['jakosc_wyniku'].min(),3), 'mean:',round(df_sa_it_rozmiar_pow_32['jakosc_wyniku'].mean(),3),'max:',df_sa_it_rozmiar_pow_32['jakosc_wyniku'].max())\n",
    "print('Rozmiar^2:    ','min:',round(df_sa_it_rozmiar_rozmiar['jakosc_wyniku'].min(),3), 'mean:',round(df_sa_it_rozmiar_rozmiar['jakosc_wyniku'].mean(),3),'max:',df_sa_it_rozmiar_rozmiar['jakosc_wyniku'].max())"
   ]
  },
  {
   "cell_type": "markdown",
   "metadata": {},
   "source": [
    "## wg temperatury początkowej\n",
    "$20*rozmiar, int(np.power(rozmiar, 3/2)), rozmiar*rozmiar$"
   ]
  },
  {
   "cell_type": "code",
   "execution_count": 7,
   "metadata": {},
   "outputs": [],
   "source": [
    "df_sa_temp_rozmiar_20 = df_sa[df_sa['temp']==df_sa['rozmiar']*20]\n",
    "df_sa_temp_rozmiar_pow_32 = df_sa[df_sa['temp']==np.power(df_sa['rozmiar'], 3/2).astype(int)]    \n",
    "df_sa_temp_rozmiar_rozmiar = df_sa[df_sa['temp']==df_sa['rozmiar']*df_sa['rozmiar']]"
   ]
  },
  {
   "cell_type": "code",
   "execution_count": 8,
   "metadata": {},
   "outputs": [
    {
     "name": "stdout",
     "output_type": "stream",
     "text": [
      "Rozmiar * 20:  min: 0.177 mean: 0.829 max: 1.0\n",
      "Rozmiar^(3/2): min: 0.631 mean: 0.89 max: 1.0\n",
      "Rozmiar^2:     min: 0.631 mean: 0.891 max: 1.0\n"
     ]
    }
   ],
   "source": [
    "print('Rozmiar * 20: ','min:',round(df_sa_temp_rozmiar_20['jakosc_wyniku'].min(),3), 'mean:',round(df_sa_temp_rozmiar_20['jakosc_wyniku'].mean(),3),'max:',df_sa_temp_rozmiar_20['jakosc_wyniku'].max())\n",
    "print('Rozmiar^(3/2):','min:',round(df_sa_temp_rozmiar_pow_32['jakosc_wyniku'].min(),3), 'mean:',round(df_sa_temp_rozmiar_pow_32['jakosc_wyniku'].mean(),3),'max:',df_sa_temp_rozmiar_pow_32['jakosc_wyniku'].max())\n",
    "print('Rozmiar^2:    ','min:',round(df_sa_temp_rozmiar_rozmiar['jakosc_wyniku'].min(),3), 'mean:',round(df_sa_temp_rozmiar_rozmiar['jakosc_wyniku'].mean(),3),'max:',df_sa_temp_rozmiar_rozmiar['jakosc_wyniku'].max())"
   ]
  },
  {
   "cell_type": "markdown",
   "metadata": {},
   "source": [
    "## wg rodzaju schematu\n",
    "liniowy, geometryczny, logarytmiczny"
   ]
  },
  {
   "cell_type": "code",
   "execution_count": 9,
   "metadata": {},
   "outputs": [],
   "source": [
    "df_sa_liniowy = df_sa[df_sa['rodzaj schematu']=='liniowy']\n",
    "df_sa_geometryczny = df_sa[df_sa['rodzaj schematu']=='geometryczny']    \n",
    "df_sa_logarytmiczny = df_sa[df_sa['rodzaj schematu']=='logarytmiczny']"
   ]
  },
  {
   "cell_type": "code",
   "execution_count": 10,
   "metadata": {},
   "outputs": [
    {
     "name": "stdout",
     "output_type": "stream",
     "text": [
      "Liniowy:       min: 0.177 mean: 0.848 max: 1.0\n",
      "Geometryczny:  min: 0.239 mean: 0.873 max: 1.0\n",
      "Logarytmiczny: min: 0.631 mean: 0.888 max: 1.0\n"
     ]
    }
   ],
   "source": [
    "print('Liniowy:      ','min:',round(df_sa_liniowy['jakosc_wyniku'].min(),3), 'mean:',round(df_sa_liniowy['jakosc_wyniku'].mean(),3),'max:',df_sa_liniowy['jakosc_wyniku'].max())\n",
    "print('Geometryczny: ','min:',round(df_sa_geometryczny['jakosc_wyniku'].min(),3), 'mean:',round(df_sa_geometryczny['jakosc_wyniku'].mean(),3),'max:',df_sa_geometryczny['jakosc_wyniku'].max())\n",
    "print('Logarytmiczny:','min:',round(df_sa_logarytmiczny['jakosc_wyniku'].min(),3), 'mean:',round(df_sa_logarytmiczny['jakosc_wyniku'].mean(),3),'max:',df_sa_logarytmiczny['jakosc_wyniku'].max())"
   ]
  },
  {
   "cell_type": "markdown",
   "metadata": {},
   "source": [
    "## wg rodzaju permutacji\n",
    "swap, insert, invert"
   ]
  },
  {
   "cell_type": "code",
   "execution_count": 11,
   "metadata": {},
   "outputs": [],
   "source": [
    "df_sa_swap = df_sa[df_sa['rodzaj permutacji']=='swap']\n",
    "df_sa_insert = df_sa[df_sa['rodzaj permutacji']=='insert']    \n",
    "df_sa_invert = df_sa[df_sa['rodzaj permutacji']=='invert']"
   ]
  },
  {
   "cell_type": "code",
   "execution_count": 12,
   "metadata": {},
   "outputs": [
    {
     "name": "stdout",
     "output_type": "stream",
     "text": [
      "Swap:   min: 0.177 mean: 0.867 max: 1.0\n",
      "Insert: min: 0.177 mean: 0.87 max: 1.0\n",
      "Invert: min: 0.177 mean: 0.872 max: 1.0\n"
     ]
    }
   ],
   "source": [
    "print('Swap:  ','min:',round(df_sa_swap['jakosc_wyniku'].min(),3), 'mean:',round(df_sa_swap['jakosc_wyniku'].mean(),3),'max:',df_sa_swap['jakosc_wyniku'].max())\n",
    "print('Insert:','min:',round(df_sa_insert['jakosc_wyniku'].min(),3), 'mean:',round(df_sa_insert['jakosc_wyniku'].mean(),3),'max:',df_sa_insert['jakosc_wyniku'].max())\n",
    "print('Invert:','min:',round(df_sa_invert['jakosc_wyniku'].min(),3), 'mean:',round(df_sa_invert['jakosc_wyniku'].mean(),3),'max:',df_sa_invert['jakosc_wyniku'].max())"
   ]
  },
  {
   "cell_type": "markdown",
   "metadata": {},
   "source": [
    "## Najlepsze wyniki dla rozmiarow\n",
    "21, 48, 71, 120, 323"
   ]
  },
  {
   "cell_type": "code",
   "execution_count": 13,
   "metadata": {},
   "outputs": [],
   "source": [
    "df_sa_21 = df_sa[df_sa['rozmiar']==21]\n",
    "df_sa_48 = df_sa[df_sa['rozmiar']==48]\n",
    "df_sa_71 = df_sa[df_sa['rozmiar']==71]\n",
    "df_sa_120 = df_sa[df_sa['rozmiar']==120]\n",
    "df_sa_323 = df_sa[df_sa['rozmiar']==323]"
   ]
  },
  {
   "cell_type": "code",
   "execution_count": 39,
   "metadata": {},
   "outputs": [
    {
     "data": {
      "text/plain": [
       "1.0"
      ]
     },
     "execution_count": 39,
     "metadata": {},
     "output_type": "execute_result"
    },
    {
     "data": {
      "text/plain": [
       "0.9667515752781874"
      ]
     },
     "execution_count": 39,
     "metadata": {},
     "output_type": "execute_result"
    },
    {
     "data": {
      "text/plain": [
       "0.904452690166976"
      ]
     },
     "execution_count": 39,
     "metadata": {},
     "output_type": "execute_result"
    },
    {
     "data": {
      "text/plain": [
       "0.9585749792874896"
      ]
     },
     "execution_count": 39,
     "metadata": {},
     "output_type": "execute_result"
    },
    {
     "data": {
      "text/plain": [
       "0.6421307506053269"
      ]
     },
     "execution_count": 39,
     "metadata": {},
     "output_type": "execute_result"
    }
   ],
   "source": [
    "df_sa_21['jakosc_wyniku'].max()\n",
    "df_sa_48['jakosc_wyniku'].max()\n",
    "df_sa_71['jakosc_wyniku'].max()\n",
    "df_sa_120['jakosc_wyniku'].max()\n",
    "df_sa_323['jakosc_wyniku'].max()"
   ]
  },
  {
   "cell_type": "markdown",
   "metadata": {},
   "source": [
    "### Które kombinacje najczęściej dawały najlepszy wynik?"
   ]
  },
  {
   "cell_type": "code",
   "execution_count": 14,
   "metadata": {},
   "outputs": [],
   "source": [
    "unique_it = ['rozmiar*5', 'np.power(rozmiar, 3/2)', 'rozmiar*rozmiar']\n",
    "unique_temp = ['20*rozmiar', 'np.power(rozmiar, 3/2)', 'rozmiar*rozmiar']"
   ]
  },
  {
   "cell_type": "code",
   "execution_count": 15,
   "metadata": {},
   "outputs": [],
   "source": [
    "unique_schem = ['liniowy', 'geometryczny', 'logarytmiczny']\n",
    "unique_perm = ['swap','insert','invert']"
   ]
  },
  {
   "cell_type": "code",
   "execution_count": 16,
   "metadata": {},
   "outputs": [],
   "source": [
    "kombinacje = {}\n",
    "for it in unique_it:\n",
    "    for temp in unique_temp:\n",
    "        for schem in unique_schem:\n",
    "            for perm in unique_perm:\n",
    "                kombinacje[it,temp,schem,perm] = 0"
   ]
  },
  {
   "cell_type": "code",
   "execution_count": 17,
   "metadata": {},
   "outputs": [],
   "source": [
    "df_sa_21_max = df_sa_21[df_sa_21['jakosc_wyniku']==df_sa_21['jakosc_wyniku'].max()]\n",
    "df_sa_48_max = df_sa_48[df_sa_48['jakosc_wyniku']==df_sa_48['jakosc_wyniku'].max()]\n",
    "df_sa_71_max = df_sa_71[df_sa_71['jakosc_wyniku']==df_sa_71['jakosc_wyniku'].max()]\n",
    "df_sa_120_max = df_sa_120[df_sa_120['jakosc_wyniku']==df_sa_120['jakosc_wyniku'].max()]\n",
    "df_sa_323_max = df_sa_323[df_sa_323['jakosc_wyniku']==df_sa_323['jakosc_wyniku'].max()]\n",
    "df_sa_max = [df_sa_21_max,df_sa_48_max,df_sa_71_max,df_sa_120_max,df_sa_323_max]"
   ]
  },
  {
   "cell_type": "code",
   "execution_count": 18,
   "metadata": {},
   "outputs": [],
   "source": [
    "for list_max in df_sa_max:\n",
    "    for index, row in list_max.iterrows():\n",
    "        iteracja = ''\n",
    "        temperatura = ''\n",
    "        liczba_it = row['liczba_it']\n",
    "        temp = row['temp']\n",
    "        rozmiar = row['rozmiar']\n",
    "        if liczba_it == rozmiar*5:\n",
    "            iteracja = 'rozmiar*5'\n",
    "        elif liczba_it == np.power(rozmiar, 3/2).astype(int):\n",
    "            iteracja = 'np.power(rozmiar, 3/2)'\n",
    "        else:\n",
    "            iteracja = 'rozmiar*rozmiar'\n",
    "        if temp == rozmiar*20:\n",
    "            temperatura = '20*rozmiar'\n",
    "        elif temp == np.power(rozmiar, 3/2).astype(int):\n",
    "            temperatura = 'np.power(rozmiar, 3/2)'\n",
    "        else :\n",
    "            temperatura = 'rozmiar*rozmiar'\n",
    "        kombinacje[iteracja,temperatura,row['rodzaj schematu'],row['rodzaj permutacji']] += 1"
   ]
  },
  {
   "cell_type": "code",
   "execution_count": 19,
   "metadata": {},
   "outputs": [
    {
     "name": "stdout",
     "output_type": "stream",
     "text": [
      "('rozmiar*rozmiar', '20*rozmiar', 'geometryczny', 'invert')\n",
      "('rozmiar*rozmiar', '20*rozmiar', 'logarytmiczny', 'swap')\n",
      "('rozmiar*rozmiar', '20*rozmiar', 'logarytmiczny', 'insert')\n",
      "('rozmiar*rozmiar', '20*rozmiar', 'logarytmiczny', 'invert')\n",
      "('rozmiar*rozmiar', 'np.power(rozmiar, 3/2)', 'liniowy', 'swap')\n",
      "('rozmiar*rozmiar', 'np.power(rozmiar, 3/2)', 'liniowy', 'insert')\n",
      "('rozmiar*rozmiar', 'np.power(rozmiar, 3/2)', 'liniowy', 'invert')\n",
      "('rozmiar*rozmiar', 'np.power(rozmiar, 3/2)', 'geometryczny', 'swap')\n",
      "('rozmiar*rozmiar', 'np.power(rozmiar, 3/2)', 'geometryczny', 'insert')\n",
      "('rozmiar*rozmiar', 'np.power(rozmiar, 3/2)', 'geometryczny', 'invert')\n",
      "('rozmiar*rozmiar', 'np.power(rozmiar, 3/2)', 'logarytmiczny', 'swap')\n",
      "('rozmiar*rozmiar', 'np.power(rozmiar, 3/2)', 'logarytmiczny', 'insert')\n",
      "('rozmiar*rozmiar', 'np.power(rozmiar, 3/2)', 'logarytmiczny', 'invert')\n",
      "('rozmiar*rozmiar', 'rozmiar*rozmiar', 'liniowy', 'swap')\n",
      "('rozmiar*rozmiar', 'rozmiar*rozmiar', 'liniowy', 'insert')\n",
      "('rozmiar*rozmiar', 'rozmiar*rozmiar', 'liniowy', 'invert')\n",
      "('rozmiar*rozmiar', 'rozmiar*rozmiar', 'geometryczny', 'swap')\n",
      "('rozmiar*rozmiar', 'rozmiar*rozmiar', 'geometryczny', 'insert')\n",
      "('rozmiar*rozmiar', 'rozmiar*rozmiar', 'geometryczny', 'invert')\n",
      "('rozmiar*rozmiar', 'rozmiar*rozmiar', 'logarytmiczny', 'swap')\n",
      "('rozmiar*rozmiar', 'rozmiar*rozmiar', 'logarytmiczny', 'insert')\n",
      "('rozmiar*rozmiar', 'rozmiar*rozmiar', 'logarytmiczny', 'invert')\n"
     ]
    }
   ],
   "source": [
    "for key, values in kombinacje.items():\n",
    "    if values == 5:\n",
    "        print(key)"
   ]
  },
  {
   "cell_type": "markdown",
   "metadata": {},
   "source": [
    "# DF_TS"
   ]
  },
  {
   "cell_type": "code",
   "execution_count": 20,
   "metadata": {},
   "outputs": [
    {
     "data": {
      "text/html": [
       "<div>\n",
       "<style scoped>\n",
       "    .dataframe tbody tr th:only-of-type {\n",
       "        vertical-align: middle;\n",
       "    }\n",
       "\n",
       "    .dataframe tbody tr th {\n",
       "        vertical-align: top;\n",
       "    }\n",
       "\n",
       "    .dataframe thead th {\n",
       "        text-align: right;\n",
       "    }\n",
       "</style>\n",
       "<table border=\"1\" class=\"dataframe\">\n",
       "  <thead>\n",
       "    <tr style=\"text-align: right;\">\n",
       "      <th></th>\n",
       "      <th>rozmiar</th>\n",
       "      <th>rozmiar_slownika_master</th>\n",
       "      <th>dlugosc_listy_tabu</th>\n",
       "      <th>kryterium_aspiracji</th>\n",
       "      <th>rodzaj permutacji</th>\n",
       "      <th>jakosc_wyniku</th>\n",
       "    </tr>\n",
       "  </thead>\n",
       "  <tbody>\n",
       "    <tr>\n",
       "      <td>0</td>\n",
       "      <td>21</td>\n",
       "      <td>4</td>\n",
       "      <td>7</td>\n",
       "      <td>1</td>\n",
       "      <td>swap</td>\n",
       "      <td>0.769034</td>\n",
       "    </tr>\n",
       "    <tr>\n",
       "      <td>1</td>\n",
       "      <td>21</td>\n",
       "      <td>4</td>\n",
       "      <td>7</td>\n",
       "      <td>1</td>\n",
       "      <td>insert</td>\n",
       "      <td>0.833949</td>\n",
       "    </tr>\n",
       "    <tr>\n",
       "      <td>2</td>\n",
       "      <td>21</td>\n",
       "      <td>4</td>\n",
       "      <td>7</td>\n",
       "      <td>1</td>\n",
       "      <td>invert</td>\n",
       "      <td>0.909916</td>\n",
       "    </tr>\n",
       "    <tr>\n",
       "      <td>3</td>\n",
       "      <td>21</td>\n",
       "      <td>4</td>\n",
       "      <td>7</td>\n",
       "      <td>2</td>\n",
       "      <td>swap</td>\n",
       "      <td>0.909916</td>\n",
       "    </tr>\n",
       "    <tr>\n",
       "      <td>4</td>\n",
       "      <td>21</td>\n",
       "      <td>4</td>\n",
       "      <td>7</td>\n",
       "      <td>2</td>\n",
       "      <td>insert</td>\n",
       "      <td>0.909916</td>\n",
       "    </tr>\n",
       "  </tbody>\n",
       "</table>\n",
       "</div>"
      ],
      "text/plain": [
       "   rozmiar  rozmiar_slownika_master  dlugosc_listy_tabu  kryterium_aspiracji  \\\n",
       "0       21                        4                   7                    1   \n",
       "1       21                        4                   7                    1   \n",
       "2       21                        4                   7                    1   \n",
       "3       21                        4                   7                    2   \n",
       "4       21                        4                   7                    2   \n",
       "\n",
       "  rodzaj permutacji  jakosc_wyniku  \n",
       "0              swap       0.769034  \n",
       "1            insert       0.833949  \n",
       "2            invert       0.909916  \n",
       "3              swap       0.909916  \n",
       "4            insert       0.909916  "
      ]
     },
     "execution_count": 20,
     "metadata": {},
     "output_type": "execute_result"
    }
   ],
   "source": [
    "df_ts.head()"
   ]
  },
  {
   "cell_type": "markdown",
   "metadata": {},
   "source": [
    "## wg rozmiaru slownika master\n",
    "$int(np.sqrt(rozmiar)),rozmiar,rozmiar*rozmiar$"
   ]
  },
  {
   "cell_type": "code",
   "execution_count": 21,
   "metadata": {},
   "outputs": [],
   "source": [
    "df_ts_master_sqrt_rozmiar = df_ts[df_ts['rozmiar_slownika_master']==np.sqrt(df_ts['rozmiar']).astype(int)]\n",
    "df_ts_master_rozmiar = df_ts[df_ts['rozmiar_slownika_master']==df_ts['rozmiar']]    \n",
    "df_ts_master_rozmiar_rozmiar = df_ts[df_ts['rozmiar_slownika_master']==df_ts['rozmiar']*df_ts['rozmiar']]"
   ]
  },
  {
   "cell_type": "code",
   "execution_count": 43,
   "metadata": {},
   "outputs": [
    {
     "name": "stdout",
     "output_type": "stream",
     "text": [
      "Rozmiar^(1/2): min: 0.213 mean: 0.52 max: 0.949\n",
      "Rozmiar:       min: 0.213 mean: 0.541 max: 0.949\n",
      "Rozmiar^2:     min: 0.213 mean: 0.541 max: 0.949\n"
     ]
    }
   ],
   "source": [
    "print('Rozmiar^(1/2):','min:',round(df_ts_master_sqrt_rozmiar['jakosc_wyniku'].min(),3), 'mean:',round(df_ts_master_sqrt_rozmiar['jakosc_wyniku'].mean(),3),'max:',round(df_ts_master_sqrt_rozmiar['jakosc_wyniku'].max(),3))\n",
    "print('Rozmiar:      ','min:',round(df_ts_master_rozmiar['jakosc_wyniku'].min(),3), 'mean:',round(df_ts_master_rozmiar['jakosc_wyniku'].mean(),3),'max:',round(df_ts_master_rozmiar['jakosc_wyniku'].max(),3))\n",
    "print('Rozmiar^2:    ','min:',round(df_ts_master_rozmiar_rozmiar['jakosc_wyniku'].min(),3), 'mean:',round(df_ts_master_rozmiar_rozmiar['jakosc_wyniku'].mean(),3),'max:',round(df_ts_master_rozmiar_rozmiar['jakosc_wyniku'].max(),3))"
   ]
  },
  {
   "cell_type": "markdown",
   "metadata": {},
   "source": [
    "## wg dlugosci listy tabu\n",
    "$7, 10, rozmiar$"
   ]
  },
  {
   "cell_type": "code",
   "execution_count": 23,
   "metadata": {},
   "outputs": [],
   "source": [
    "df_ts_tabu_7 = df_ts[df_ts['dlugosc_listy_tabu']==7]\n",
    "df_ts_tabu_10 = df_ts[df_ts['dlugosc_listy_tabu']==10]    \n",
    "df_ts_tabu_rozmiar = df_ts[df_ts['dlugosc_listy_tabu']==df_ts['rozmiar']]"
   ]
  },
  {
   "cell_type": "code",
   "execution_count": 42,
   "metadata": {},
   "outputs": [
    {
     "name": "stdout",
     "output_type": "stream",
     "text": [
      "7:       min: 0.213 mean: 0.526 max: 0.949\n",
      "10:      min: 0.213 mean: 0.536 max: 0.949\n",
      "Rozmiar: min: 0.213 mean: 0.539 max: 0.949\n"
     ]
    }
   ],
   "source": [
    "print('7:      ','min:',round(df_ts_tabu_7['jakosc_wyniku'].min(),3), 'mean:',round(df_ts_tabu_7['jakosc_wyniku'].mean(),3),'max:',round(df_ts_tabu_7['jakosc_wyniku'].max(),3))\n",
    "print('10:     ','min:',round(df_ts_tabu_10['jakosc_wyniku'].min(),3), 'mean:',round(df_ts_tabu_10['jakosc_wyniku'].mean(),3),'max:',round(df_ts_tabu_10['jakosc_wyniku'].max(),3))\n",
    "print('Rozmiar:','min:',round(df_ts_tabu_rozmiar['jakosc_wyniku'].min(),3), 'mean:',round(df_ts_tabu_rozmiar['jakosc_wyniku'].mean(),3),'max:',round(df_ts_tabu_rozmiar['jakosc_wyniku'].max(),3))"
   ]
  },
  {
   "cell_type": "markdown",
   "metadata": {},
   "source": [
    "## wg kryterium aspiracji\n",
    "1 - dlugosc < najkrotsza dlugosc, 2 - dlugosc < poprzednia dlugosc"
   ]
  },
  {
   "cell_type": "code",
   "execution_count": 25,
   "metadata": {},
   "outputs": [],
   "source": [
    "df_ts_ka_1 = df_ts[df_ts['kryterium_aspiracji']==1]\n",
    "df_ts_ka_2 = df_ts[df_ts['kryterium_aspiracji']==2]"
   ]
  },
  {
   "cell_type": "code",
   "execution_count": 41,
   "metadata": {},
   "outputs": [
    {
     "name": "stdout",
     "output_type": "stream",
     "text": [
      "1 - dlugosc < najkrotsza dlugosc: min: 0.213 mean: 0.53 max: 0.949\n",
      "2 - dlugosc < poprzednia dlugosc: min: 0.213 mean: 0.538 max: 0.949\n"
     ]
    }
   ],
   "source": [
    "print('1 - dlugosc < najkrotsza dlugosc:','min:',round(df_ts_ka_1['jakosc_wyniku'].min(),3), 'mean:',round(df_ts_ka_1['jakosc_wyniku'].mean(),3),'max:',round(df_ts_ka_1['jakosc_wyniku'].max(),3))\n",
    "print('2 - dlugosc < poprzednia dlugosc:','min:',round(df_ts_ka_2['jakosc_wyniku'].min(),3), 'mean:',round(df_ts_ka_2['jakosc_wyniku'].mean(),3),'max:',round(df_ts_ka_2['jakosc_wyniku'].max(),3))"
   ]
  },
  {
   "cell_type": "markdown",
   "metadata": {},
   "source": [
    "## wg rodzaju permutacji\n",
    "swap, insert, invert"
   ]
  },
  {
   "cell_type": "code",
   "execution_count": 27,
   "metadata": {},
   "outputs": [],
   "source": [
    "df_ts_swap = df_ts[df_ts['rodzaj permutacji']=='swap']\n",
    "df_ts_insert = df_ts[df_ts['rodzaj permutacji']=='insert']    \n",
    "df_ts_invert = df_ts[df_ts['rodzaj permutacji']=='invert']"
   ]
  },
  {
   "cell_type": "code",
   "execution_count": 40,
   "metadata": {},
   "outputs": [
    {
     "name": "stdout",
     "output_type": "stream",
     "text": [
      "Swap:   min: 0.213 mean: 0.532 max: 0.949\n",
      "Insert: min: 0.213 mean: 0.533 max: 0.949\n",
      "Invert: min: 0.213 mean: 0.537 max: 0.949\n"
     ]
    }
   ],
   "source": [
    "print('Swap:  ','min:',round(df_ts_swap['jakosc_wyniku'].min(),3), 'mean:',round(df_ts_swap['jakosc_wyniku'].mean(),3),'max:',round(df_ts_swap['jakosc_wyniku'].max(),3))\n",
    "print('Insert:','min:',round(df_ts_insert['jakosc_wyniku'].min(),3), 'mean:',round(df_ts_insert['jakosc_wyniku'].mean(),3),'max:',round(df_ts_insert['jakosc_wyniku'].max(),3))\n",
    "print('Invert:','min:',round(df_ts_invert['jakosc_wyniku'].min(),3), 'mean:',round(df_ts_invert['jakosc_wyniku'].mean(),3),'max:',round(df_ts_invert['jakosc_wyniku'].max(),3))"
   ]
  },
  {
   "cell_type": "markdown",
   "metadata": {},
   "source": [
    "## Najlepsze wyniki dla rozmiarow¶\n",
    "21, 48, 71, 120, 323"
   ]
  },
  {
   "cell_type": "code",
   "execution_count": 29,
   "metadata": {},
   "outputs": [],
   "source": [
    "df_ts_21 = df_ts[df_ts['rozmiar']==21]\n",
    "df_ts_48 = df_ts[df_ts['rozmiar']==48]\n",
    "df_ts_71 = df_ts[df_ts['rozmiar']==71]\n",
    "df_ts_120 = df_ts[df_ts['rozmiar']==120]\n",
    "df_ts_323 = df_ts[df_ts['rozmiar']==323]"
   ]
  },
  {
   "cell_type": "code",
   "execution_count": 44,
   "metadata": {},
   "outputs": [
    {
     "data": {
      "text/plain": [
       "0.9494914065240266"
      ]
     },
     "execution_count": 44,
     "metadata": {},
     "output_type": "execute_result"
    },
    {
     "data": {
      "text/plain": [
       "0.8243969360923745"
      ]
     },
     "execution_count": 44,
     "metadata": {},
     "output_type": "execute_result"
    },
    {
     "data": {
      "text/plain": [
       "0.4753778644563628"
      ]
     },
     "execution_count": 44,
     "metadata": {},
     "output_type": "execute_result"
    },
    {
     "data": {
      "text/plain": [
       "0.21277508735364434"
      ]
     },
     "execution_count": 44,
     "metadata": {},
     "output_type": "execute_result"
    },
    {
     "data": {
      "text/plain": [
       "0.24254618620815804"
      ]
     },
     "execution_count": 44,
     "metadata": {},
     "output_type": "execute_result"
    }
   ],
   "source": [
    "df_ts_21['jakosc_wyniku'].max()\n",
    "df_ts_48['jakosc_wyniku'].max()\n",
    "df_ts_71['jakosc_wyniku'].max()\n",
    "df_ts_120['jakosc_wyniku'].max()\n",
    "df_ts_323['jakosc_wyniku'].max()"
   ]
  },
  {
   "cell_type": "markdown",
   "metadata": {},
   "source": [
    "### Które kombinacje najczęściej dawały najlepszy wynik?"
   ]
  },
  {
   "cell_type": "code",
   "execution_count": 30,
   "metadata": {},
   "outputs": [],
   "source": [
    "unique_master = ['sqrt(rozmiar)', 'rozmiar', 'rozmiar*rozmiar']\n",
    "unique_tabu = ['7','10','rozmiar']\n",
    "unique_ka = [1,2]\n",
    "unique_perm = ['swap','insert','invert']"
   ]
  },
  {
   "cell_type": "code",
   "execution_count": 31,
   "metadata": {},
   "outputs": [],
   "source": [
    "kombinacje_ts = {}\n",
    "for master in unique_master:\n",
    "    for tabu in unique_tabu:\n",
    "        for ka in unique_ka:\n",
    "            for perm in unique_perm:\n",
    "                kombinacje_ts[master,tabu,ka,perm] = 0"
   ]
  },
  {
   "cell_type": "code",
   "execution_count": 32,
   "metadata": {},
   "outputs": [],
   "source": [
    "df_ts_21_max = df_ts_21[df_ts_21['jakosc_wyniku']==df_ts_21['jakosc_wyniku'].max()]\n",
    "df_ts_48_max = df_ts_48[df_ts_48['jakosc_wyniku']==df_ts_48['jakosc_wyniku'].max()]\n",
    "df_ts_71_max = df_ts_71[df_ts_71['jakosc_wyniku']==df_ts_71['jakosc_wyniku'].max()]\n",
    "df_ts_120_max = df_ts_120[df_ts_120['jakosc_wyniku']==df_ts_120['jakosc_wyniku'].max()]\n",
    "df_ts_323_max = df_ts_323[df_ts_323['jakosc_wyniku']==df_ts_323['jakosc_wyniku'].max()]\n",
    "df_ts_max = [df_ts_21_max,df_ts_48_max,df_ts_71_max,df_ts_120_max,df_ts_323_max]"
   ]
  },
  {
   "cell_type": "code",
   "execution_count": 33,
   "metadata": {},
   "outputs": [],
   "source": [
    "for list_max in df_ts_max:\n",
    "    for index, row in list_max.iterrows():\n",
    "        master = ''\n",
    "        tabu = ''\n",
    "        rozmiar_master = row['rozmiar_slownika_master']\n",
    "        dlugosc_tabu = row['dlugosc_listy_tabu']\n",
    "        rozmiar = row['rozmiar']\n",
    "        if rozmiar_master == np.sqrt(rozmiar).astype(int):\n",
    "            master = 'sqrt(rozmiar)'\n",
    "        elif rozmiar_master == rozmiar:\n",
    "            master = 'rozmiar'\n",
    "        else:\n",
    "            master = 'rozmiar*rozmiar'\n",
    "        if dlugosc_tabu == 7:\n",
    "            tabu = '7'\n",
    "        elif dlugosc_tabu == 10:\n",
    "            tabu = '10'\n",
    "        else :\n",
    "            tabu = 'rozmiar'\n",
    "        kombinacje_ts[master,tabu,row['kryterium_aspiracji'],row['rodzaj permutacji']] += 1"
   ]
  },
  {
   "cell_type": "code",
   "execution_count": 34,
   "metadata": {
    "scrolled": true
   },
   "outputs": [
    {
     "name": "stdout",
     "output_type": "stream",
     "text": [
      "('sqrt(rozmiar)', 'rozmiar', 2, 'swap')\n",
      "('sqrt(rozmiar)', 'rozmiar', 2, 'insert')\n",
      "('sqrt(rozmiar)', 'rozmiar', 2, 'invert')\n",
      "('rozmiar', '7', 1, 'swap')\n",
      "('rozmiar', '7', 1, 'insert')\n",
      "('rozmiar', '7', 1, 'invert')\n",
      "('rozmiar', '7', 2, 'swap')\n",
      "('rozmiar', '7', 2, 'insert')\n",
      "('rozmiar', '7', 2, 'invert')\n",
      "('rozmiar', '10', 1, 'swap')\n",
      "('rozmiar', '10', 1, 'insert')\n",
      "('rozmiar', '10', 1, 'invert')\n",
      "('rozmiar', '10', 2, 'swap')\n",
      "('rozmiar', '10', 2, 'insert')\n",
      "('rozmiar', '10', 2, 'invert')\n",
      "('rozmiar', 'rozmiar', 1, 'swap')\n",
      "('rozmiar', 'rozmiar', 1, 'insert')\n",
      "('rozmiar', 'rozmiar', 1, 'invert')\n",
      "('rozmiar', 'rozmiar', 2, 'swap')\n",
      "('rozmiar', 'rozmiar', 2, 'insert')\n",
      "('rozmiar', 'rozmiar', 2, 'invert')\n",
      "('rozmiar*rozmiar', '7', 1, 'swap')\n",
      "('rozmiar*rozmiar', '7', 1, 'insert')\n",
      "('rozmiar*rozmiar', '7', 1, 'invert')\n",
      "('rozmiar*rozmiar', '7', 2, 'swap')\n",
      "('rozmiar*rozmiar', '7', 2, 'insert')\n",
      "('rozmiar*rozmiar', '7', 2, 'invert')\n",
      "('rozmiar*rozmiar', '10', 1, 'swap')\n",
      "('rozmiar*rozmiar', '10', 1, 'insert')\n",
      "('rozmiar*rozmiar', '10', 1, 'invert')\n",
      "('rozmiar*rozmiar', '10', 2, 'swap')\n",
      "('rozmiar*rozmiar', '10', 2, 'insert')\n",
      "('rozmiar*rozmiar', '10', 2, 'invert')\n",
      "('rozmiar*rozmiar', 'rozmiar', 1, 'swap')\n",
      "('rozmiar*rozmiar', 'rozmiar', 1, 'insert')\n",
      "('rozmiar*rozmiar', 'rozmiar', 1, 'invert')\n",
      "('rozmiar*rozmiar', 'rozmiar', 2, 'swap')\n",
      "('rozmiar*rozmiar', 'rozmiar', 2, 'insert')\n",
      "('rozmiar*rozmiar', 'rozmiar', 2, 'invert')\n"
     ]
    }
   ],
   "source": [
    "for key, values in kombinacje_ts.items():\n",
    "    if values == 5:\n",
    "        print(key)"
   ]
  },
  {
   "cell_type": "code",
   "execution_count": 35,
   "metadata": {},
   "outputs": [
    {
     "name": "stdout",
     "output_type": "stream",
     "text": [
      "21 ts/sa : 0.9494914065240266\n",
      "48 ts/sa : 0.8527495141191266\n",
      "71 ts/sa : 0.5255972696245733\n",
      "120 ts/sa : 0.22197020780972232\n",
      "323 ts/sa : 0.37772087067861715\n"
     ]
    }
   ],
   "source": [
    "print('21 ts/sa :', df_ts_21['jakosc_wyniku'].max() / df_sa_21['jakosc_wyniku'].max())\n",
    "print('48 ts/sa :', df_ts_48['jakosc_wyniku'].max() / df_sa_48['jakosc_wyniku'].max())\n",
    "print('71 ts/sa :', df_ts_71['jakosc_wyniku'].max() / df_sa_71['jakosc_wyniku'].max())\n",
    "print('120 ts/sa :', df_ts_120['jakosc_wyniku'].max() / df_sa_120['jakosc_wyniku'].max())\n",
    "print('323 ts/sa :', df_ts_323['jakosc_wyniku'].max() / df_sa_323['jakosc_wyniku'].max())"
   ]
  },
  {
   "cell_type": "code",
   "execution_count": 36,
   "metadata": {},
   "outputs": [
    {
     "data": {
      "text/plain": [
       "0.24254618620815804"
      ]
     },
     "execution_count": 36,
     "metadata": {},
     "output_type": "execute_result"
    }
   ],
   "source": [
    "df_ts_323['jakosc_wyniku'].max()"
   ]
  },
  {
   "cell_type": "code",
   "execution_count": null,
   "metadata": {},
   "outputs": [],
   "source": []
  }
 ],
 "metadata": {
  "kernelspec": {
   "display_name": "Python 3",
   "language": "python",
   "name": "python3"
  },
  "language_info": {
   "codemirror_mode": {
    "name": "ipython",
    "version": 3
   },
   "file_extension": ".py",
   "mimetype": "text/x-python",
   "name": "python",
   "nbconvert_exporter": "python",
   "pygments_lexer": "ipython3",
   "version": "3.7.4"
  },
  "toc": {
   "base_numbering": 1,
   "nav_menu": {},
   "number_sections": true,
   "sideBar": true,
   "skip_h1_title": false,
   "title_cell": "Table of Contents",
   "title_sidebar": "Contents",
   "toc_cell": false,
   "toc_position": {},
   "toc_section_display": true,
   "toc_window_display": false
  }
 },
 "nbformat": 4,
 "nbformat_minor": 2
}
