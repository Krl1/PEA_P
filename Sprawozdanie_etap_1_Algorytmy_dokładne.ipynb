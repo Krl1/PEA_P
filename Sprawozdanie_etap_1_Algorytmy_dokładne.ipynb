{
 "cells": [
  {
   "cell_type": "markdown",
   "metadata": {},
   "source": [
    "Stronę tytułową doda się w Latexie"
   ]
  },
  {
   "cell_type": "markdown",
   "metadata": {},
   "source": [
    "# Opis problemu"
   ]
  },
  {
   "cell_type": "markdown",
   "metadata": {},
   "source": [
    "Podczas pierwszego etapu należało napisać algorytmy dokładne rozwiązujące problem komiwojażera. Problem komiwojażera polega na znalezieniu minimalnego cyklu Hamiltona w pełnym grafie ważonym. Jest to  problem NP-trudny, co oznacza, że nie jest możliwe rozwiązanie problemu komiwojażera ze złożonością obliczeniową wielomianową.  Algorytmy, które były badane to: Brute Force, Dynamic Programming (Held-Karp) oraz Branch and Bound."
   ]
  },
  {
   "cell_type": "markdown",
   "metadata": {},
   "source": [
    "# Metody rozwiązania"
   ]
  },
  {
   "cell_type": "markdown",
   "metadata": {},
   "source": [
    "## Brute Force"
   ]
  },
  {
   "cell_type": "markdown",
   "metadata": {},
   "source": [
    "Algorytm Brute Force, to najprostszy algorytm. Jego działanie polega na przeglądnięciu wszystkich możliwych ścieżek i wybraniu tej najkrótszej. Aby algorytm wiedział, długość której ścieżki ma zmierzyć, należy te ścieżki albo wyznaczyć wcześniej, albo wyznaczać po skończeniu operacji z bierzącą ścieżką. W programie wykorzystano drugi sposób, ponieważ pozwala on zmniejszyć wykorzystanie pamięci. W języku Python jest to możliwe dzięki generatorom, które tworzą kolejne elementy dopiero przy odwołaniu się do nich (np. poprzez pobranie kolejnego elementu)."
   ]
  },
  {
   "cell_type": "markdown",
   "metadata": {},
   "source": [
    "Do wytworzenia kolejnych permutacji ścieżek wykrzystano algorytm Heap Permutation, który w wersji z generatorem wygląda następująco:"
   ]
  },
  {
   "cell_type": "code",
   "execution_count": 2,
   "metadata": {},
   "outputs": [],
   "source": [
    "def heap_perm(n, A):\n",
    "    if n == 1: yield A\n",
    "    else:\n",
    "        for i in range(n-1):\n",
    "            for hp in heap_perm(n-1, A): yield hp\n",
    "            j = 0 if (n % 2) == 1 else i\n",
    "            A[j],A[n-1] = A[n-1],A[j]\n",
    "        for hp in heap_perm(n-1, A): yield hp"
   ]
  },
  {
   "cell_type": "markdown",
   "metadata": {},
   "source": [
    "gdzie $A$ to lista wierzchołków, a $n$ to rozmiar tej listy."
   ]
  },
  {
   "cell_type": "markdown",
   "metadata": {},
   "source": [
    "Do zliczenia długości ścieżki użyto następującej funkcji:"
   ]
  },
  {
   "cell_type": "code",
   "execution_count": 3,
   "metadata": {
    "code_folding": []
   },
   "outputs": [],
   "source": [
    "def countPath(path):\n",
    "    new_path=0\n",
    "    new_path+=arr[0][path[0]]\n",
    "    for step in range(n-2):\n",
    "        new_path+=arr[path[step]][path[step+1]]\n",
    "    new_path+=arr[path[n-2]][0]\n",
    "    return new_path"
   ]
  },
  {
   "cell_type": "markdown",
   "metadata": {},
   "source": [
    "gdzie $path$ to lista sąsiadujących wierzchołków, a $arr$ to macierz, w której są zapisane odległości pomiędzy poszczególnymi wierzchołkami."
   ]
  },
  {
   "cell_type": "markdown",
   "metadata": {},
   "source": [
    "### Przebieg algorytmu"
   ]
  },
  {
   "cell_type": "markdown",
   "metadata": {},
   "source": [
    "W algorytmie najpierw zadeklarowano zmienną $b$ jako generatora (1), następnie pobrano pierwszą z permutacji i obliczono jej długość (2-4), tak aby w kolejnych krokach móc porównać nowe wartości. W pętli, która wykonuje się $((n-1)! - 1)$ raza (6) za każdym razem pobieramy nową ścieżkę (7), obliczamy jej długość (8) oraz sprawdzamy, czy jest krótsza od dotychczas najkrótszej (9-11)."
   ]
  },
  {
   "cell_type": "markdown",
   "metadata": {},
   "source": [
    "### Algorytm: "
   ]
  },
  {
   "cell_type": "code",
   "execution_count": null,
   "metadata": {},
   "outputs": [],
   "source": [
    "b=heap_perm(n-1,list(range(1,n)))\n",
    "path = next(b)\n",
    "min_path = path\n",
    "min_length = countPath(path)\n",
    "\n",
    "for i in range(math.factorial(n-1)-1):\n",
    "    path = next(b)\n",
    "    length = countPath(path)\n",
    "    if length < min_length:\n",
    "        min_length = length\n",
    "        min_path = path"
   ]
  },
  {
   "cell_type": "markdown",
   "metadata": {},
   "source": [
    "Złożoność algorytmu Brute Force to $O(n!)$, co sprawia, że już dla małych instancji, algorytm długo się wykonuje i mała zmiana rozmiaru, powoduje dużą zmianę w szybkości wykonania algorytmu."
   ]
  },
  {
   "cell_type": "markdown",
   "metadata": {},
   "source": [
    "## Dynamic Programming"
   ]
  },
  {
   "cell_type": "markdown",
   "metadata": {},
   "source": [
    "Programowanie dynamiczne (w tym przypadku algorytm Held-Karp) polega na :\n",
    "1. Obliczeniu długości ścieżki od każdego wierzchołka do wierzchołka końcowego.\n",
    "2. Dla wszystkich kombinacji wierzchołków o rozmiarach od 2 do n: \n",
    " 1. korzystając z wcześniej zapamiętanych ścieżek o rozmiarze o jeden mniejszym, obliczyć długość nowej ścieżki,\n",
    " 2. ze ścieżek idących przez te same wierzchołki, zapamiętać tę najkrótszą.\n",
    "3. Ostateczne ścieżki połączyć ponownie z wierzchołkiem końcowym, tak aby powstał cykl. Dodać długość tej krawędzi to długości ścieżki.\n",
    "4. Z obliczonych ścieżek wybrać tę najkrótszą."
   ]
  },
  {
   "cell_type": "markdown",
   "metadata": {},
   "source": [
    "### Przebieg algorytmu"
   ]
  },
  {
   "cell_type": "markdown",
   "metadata": {},
   "source": [
    "W algorytmie najpierw zadeklarowano zmienną C jako słownik (1), którego kluczem będzie touple, który zapamiętuje binarnie zapisane odwiedzone wierzchołki oraz ostatni przyłączony do niego wierzchołek. Do takiego klucza przypisywany jest touple zawierający długość dotychczasowej ścieżki oraz wierzchołek, z którym połączono wierzchołek z klucza.  \n",
    "Na początku połączono wszystkie wierzchołki z wierzchołkiem końcowym (w tym wypadku z 0) i zapisano je do słownika C (3-4).  \n",
    "Następnie utworzono pętlę, która będzie zwiększać rozmiar ścieżki od 2 do n (6).  \n",
    "Następnie utworzono pętlę, która będzie iterować po wszystkich kombinacjach o podanym rozmiarze (8).  \n",
    "Następnie utworzono zmienną bits, która będzie zapamiętywałana poczszególnych pozycjach nr wierzchołków z danej kombinacji (9-12).  \n",
    "Następnie utworzono pętlę, która dla każdego wierzchołka z danej iteracji (14):\n",
    "- usunie go ze zmiennej bits (15), aby otrzymać kombinację o rozmiar mniejszą, którą już zapamiętaliśmy w słowniku C,\n",
    "- stworzy pustą listę res (17), w której zapamiętamy długości nowych ścieżek,\n",
    "- utworzy pętlę, z pozostałymi wierzchołkami z danej iteracji (19-22),\n",
    " - doda dystans idący od wierzchołka iterowanego w pętli z linii 19, do wierzchołka z pętli z linii 14, do poprzedniego, już zapisanego wcześniej dystansu i wierzchołku końcowym z pętlii z linii 19, do listy res (24),\n",
    "- z listy res wybierze najkrótszą ścieżkę i doda ją do słownika C (26).\n",
    "Następnie do wszystkich ścieżek o rozmiarze n, połączymy ostatni wierzchołek z pierwszym, aby stworzyć oczekiwany cykl (31-32).  \n",
    "Z tych ścieżek wybrano najkrótszą, a na podstawie rodzica zapisanego przy danym kroku, odtworzono przebieg najkrótszej ścieżki, uzupełniając go o wierzchołek 0 (34-45). "
   ]
  },
  {
   "cell_type": "markdown",
   "metadata": {},
   "source": [
    "### Algorytm: "
   ]
  },
  {
   "cell_type": "code",
   "execution_count": null,
   "metadata": {},
   "outputs": [],
   "source": [
    "C = {}\n",
    "\n",
    "for k in range(1, n):\n",
    "    C[(1 << k, k)] = (arr[0][k], 0) #tworzymy drogę i zapisujemy dystans każdego wierzchołka z ostatnim\n",
    "    \n",
    "for subset_size in range(2, n):\n",
    "    \n",
    "    for subset in itertools.combinations(range(1, n), subset_size):\n",
    "        bits = 0\n",
    "        \n",
    "        for bit in subset:\n",
    "            bits |= 1 << bit    # ustawiamy bity na 1 w miejscu, na który wskazuje nr wierzchołka z bierzącego subset, \n",
    "                                # operacją 'or' dodajemy kolejne jedynki\n",
    "        for k in subset:\n",
    "            prev = bits & ~(1 << k) # usuwamy k'ty wierzchołekz bitu, \n",
    "                                    # prev to kombinacja, która już była (iteracja zwiększa rozmiar)\n",
    "            res = []\n",
    "            \n",
    "            for m in subset:\n",
    "                \n",
    "                if m == k:  # w celu uniknięcia ścieżki do siebie samej\n",
    "                    continue\n",
    "                    \n",
    "                res.append((C[(prev, m)][0] + arr[m][k], m)) # nowy dystans oraz ostatni wierzchołek\n",
    "                \n",
    "            C[(bits, k)] = min(res)\n",
    "\n",
    "bits = (1<<n) - 2\n",
    "res = []\n",
    "\n",
    "for k in range(1, n):\n",
    "    res.append((C[(bits, k)][0] + arr[k][0], k))\n",
    "    \n",
    "opt, parent = min(res)\n",
    "\n",
    "path = []\n",
    "\n",
    "for i in range(n - 1):\n",
    "    path.append(parent)\n",
    "    new_bits = bits & ~(1 << parent)\n",
    "    _, parent = C[(bits, parent)]\n",
    "    bits = new_bits\n",
    "\n",
    "path.append(0)\n",
    "path.insert(0,0)"
   ]
  },
  {
   "cell_type": "markdown",
   "metadata": {},
   "source": [
    "Złożoność algorytmu Dynamic Programming to  $O(n^22^n)$, co czyni go algorytmem wydajniejszym od algorytmu Brute Force."
   ]
  },
  {
   "cell_type": "markdown",
   "metadata": {},
   "source": [
    "## Branch and Bound"
   ]
  },
  {
   "cell_type": "markdown",
   "metadata": {},
   "source": [
    "Algorytm Branch and Bound (inaczej metoda podziału i ograniczeń) to metoda polegająca na stopniowym kontynuowaniu ścieżki z wierzchołka o najmniejszym koszcie, które jednocześnie staje się dolnym ograniczeniem, stopniowo zwiększając dolne ograniczenie oraz na odcinaniu ścieżek, których koszt w pwenym momencie stanie się większy, niż górne ograniczenie.  "
   ]
  },
  {
   "cell_type": "markdown",
   "metadata": {},
   "source": [
    "W zastosowanym algorytmie, dolne ograniczenie jest obliczanie poprzez redukcję macierzy uprzednio przygotowanej, tj. takiej, w której niemożliwe już gałęzie, w danej odnodze, są usuwane. Poniższa funkcja rudukująca macierz dostaje jako argument macierz, w której pozbyto się już zbędnych ścieżek. Funckja ta każdą kolumnę i każdy wiersz redukuje o minimalną wartość w tej kolumnie lub w tym wierszu. Suma zredukowanych wartości stanowi dodatkowy koszt."
   ]
  },
  {
   "cell_type": "code",
   "execution_count": null,
   "metadata": {},
   "outputs": [],
   "source": [
    "def ReduceMatrix(array):\n",
    "    reduceValue = 0.0\n",
    "    for i in range(array.shape[0]):\n",
    "        minValue = np.nanmin(array[i])\n",
    "        minValue = np.nan_to_num(minValue) # aby zapobiec sytuacji, gdzie minValue == nan\n",
    "        reduceValue += minValue\n",
    "        array[i] -= minValue\n",
    "    for i in range(array.shape[1]):\n",
    "        minValue = np.nanmin(array[:,i])\n",
    "        minValue = np.nan_to_num(minValue)\n",
    "        reduceValue += minValue\n",
    "        array[:,i] -= minValue\n",
    "    return reduceValue, array"
   ]
  },
  {
   "cell_type": "markdown",
   "metadata": {},
   "source": [
    "### Przebieg algorytmu"
   ]
  },
  {
   "cell_type": "markdown",
   "metadata": {},
   "source": [
    "Na początku algorytmu (1-13) zapamiętujemy w liście all_data toupla, który przechowuje pierwszy koszt redukcji, ilość jeszcze niezdobytych wierzchołków, bitowo zapisane zdobyte wierzchołki, unikalny indeks, pierwszą zredukowaną macierz, listę niezdobytych jeszcze wierzchołków, numer bierzącego wierzchołka oraz dotychczasową ścieżkę. Dane zapisane są w tej kolejności, ponieważ wyszukując najlepszego wierzchołka do rozwinięcia, należy wybrać najpierw ten z najmniejszym kosztem, następnie ten z największą ilością już dołączonych wierzchołków.  \n",
    "Następnie zapisujemy liczbę, w której wszystkie wierzchołki są już zapisane (16). Jest to konieczne, aby sprawdzić, czy w pobranej ścieżce o najmniejszym koszcie, występują już wszystkie wierzchołki.  "
   ]
  },
  {
   "cell_type": "markdown",
   "metadata": {},
   "source": [
    "W tym momencie zaczyna się główna pętla algorytmu, która trwa do momentu spełnienia warunku końcowego (21).  \n",
    "Na początku pobierane są dane o najmniejszym kosztcie z listy $all\\_data$ i sprawdzane, czy to już koniec algorytmu. (19-22), dane te są zapisywane w zmiennych (24-29), a liczba wierzchołków do których jeszcze nie doszliśmy, jest zmniejszana o 1 (31).  \n",
    "W tym momencie, dla wszystkich wierzchołków, które wychodza z danego węzła (33) obliczane są:\n",
    "- macierz redukcji oraz koszt (35-40),\n",
    "- bitowo dodawany jest bierzący wierzchołek (42-43),\n",
    "- z wierzchołków nieodwiedzonych usuwany jest obecny wierzchołek (45-46),\n",
    "- ścieżka rozwijana jest o bierzący wierzchołek (48-49),\n",
    "- przydzielany jest nowy indeks (51),\n",
    "oraz wszystkie te dane zapisywane są jako nowy touple w liście $all\\_data$.  \n",
    "\n",
    "Po przejściu przez pętlę usuwany jest dany węzeł wraz z danymi, ponieważ, do niego już nie będzie się wracało.\n",
    "\n",
    "Po zakończeniu głównej pętli, naszym wynikiem jest minimalny touple z listy $all\\_data$"
   ]
  },
  {
   "cell_type": "markdown",
   "metadata": {},
   "source": [
    "### Algorytm:"
   ]
  },
  {
   "cell_type": "code",
   "execution_count": null,
   "metadata": {},
   "outputs": [],
   "source": [
    "first_reduce_cost, first_reduce_arr = ReduceMatrix(arr.copy())\n",
    "first_bits = 1\n",
    "vertices = np.arange(1,n)\n",
    "vertices = list(vertices)\n",
    "number_of_vertices = n-1\n",
    "my_vertice_number = 0\n",
    "\n",
    "index = 0\n",
    "\n",
    "path = list()\n",
    "path.append(0)\n",
    "all_data = list()\n",
    "all_data.append((first_reduce_cost, number_of_vertices, first_bits, index, first_reduce_arr, vertices, my_vertice_number,path))\n",
    "\n",
    "\n",
    "end_value = (1<<n) - 1 #jedynki na wszyskich miejscach, czyli każdy wierzchołek odwiedzony\n",
    "\n",
    "while True:\n",
    "    data = min(all_data)\n",
    "    old_bits = data[2]\n",
    "    if old_bits == end_value:\n",
    "        break\n",
    "\n",
    "    old_reduce_cost = data[0]\n",
    "    old_number_of_vertices = data[1]\n",
    "    old_reduce_arr = data[4]\n",
    "    old_vertices = data[5]\n",
    "    parent = data[6]\n",
    "    old_path = data[7]\n",
    "\n",
    "    number_of_vertices = old_number_of_vertices - 1\n",
    "\n",
    "    for vertice in old_vertices:\n",
    "        # Przygotowanie macierzy\n",
    "        new_arr = old_reduce_arr.copy()\n",
    "        new_arr[parent] = np.nan\n",
    "        new_arr[:,vertice] = np.nan\n",
    "        new_arr[vertice,parent] = np.nan\n",
    "        reduce_cost, reduce_arr = ReduceMatrix(new_arr.copy())\n",
    "        reduce_cost = old_reduce_arr[parent, vertice] + old_reduce_cost + reduce_cost\n",
    "\n",
    "        bits = old_bits\n",
    "        bits |= 1 << vertice\n",
    "\n",
    "        vertices = old_vertices.copy()\n",
    "        vertices.remove(vertice) \n",
    "\n",
    "        path = old_path.copy()\n",
    "        path.append(vertice)\n",
    "\n",
    "        index += 1\n",
    "\n",
    "        all_data.append((reduce_cost, number_of_vertices, bits, index, reduce_arr, vertices, vertice, path))  \n",
    "\n",
    "    all_data.remove(data)\n",
    "\n",
    "data = min(all_data)\n",
    "\n",
    "path = data[-1].copy()\n",
    "path.append(0)"
   ]
  },
  {
   "cell_type": "markdown",
   "metadata": {},
   "source": [
    "W algorytmie nie użyto górnego ograniczenia, które mogło by pozwolić zmniejszyć ilość danych zapamiętywanych w liście $all\\_data$."
   ]
  },
  {
   "cell_type": "markdown",
   "metadata": {},
   "source": [
    "Złożoność obliczeniowa algorytmu nie jest jednoznaczna, ponieważ zależy od użytego w algorytmie sposobu obliczania dolnego oraz górnego ograniczenia. Dodatkowo szybkość obliczenia dane przykładu, w dużej mierze zależy od jego danych."
   ]
  },
  {
   "cell_type": "markdown",
   "metadata": {},
   "source": [
    "# Wyniki"
   ]
  },
  {
   "cell_type": "markdown",
   "metadata": {},
   "source": [
    "Program testowany był w systemie Windows 10 64-bit na komputerze\n",
    "z procesorem Intel(R) Core(TM) i5-7300HQ CPU @ 2.50GHz (4 CPUs), 16GB pamięci RAM."
   ]
  },
  {
   "cell_type": "markdown",
   "metadata": {},
   "source": [
    "## Dane przedstawione w tabelach"
   ]
  },
  {
   "cell_type": "markdown",
   "metadata": {},
   "source": [
    "Jednostki danych w tabelach to: dla czasów - sekundy, dla PRD - %."
   ]
  },
  {
   "cell_type": "code",
   "execution_count": 2,
   "metadata": {
    "scrolled": false
   },
   "outputs": [
    {
     "name": "stdout",
     "output_type": "stream",
     "text": [
      "Zgromadzone dane dla algorytmu Brute Force:\n",
      "\n",
      "Zgromadzone dane dla algorytmu Dynamic Programming:\n",
      "\n",
      "Zgromadzone dane dla algorytmu Branch and Bound:\n"
     ]
    },
    {
     "data": {
      "text/html": [
       "\n",
       "        <script>\n",
       "            function code_toggle_13513099195410083533() {\n",
       "                $('div.cell.code_cell.rendered.selected').find('div.input').toggle();\n",
       "            }\n",
       "\n",
       "            \n",
       "        </script>\n",
       "\n",
       "        <a href=\"javascript:code_toggle_13513099195410083533()\">Toggle show/hide</a>\n",
       "    "
      ],
      "text/plain": [
       "<IPython.core.display.HTML object>"
      ]
     },
     "execution_count": 2,
     "metadata": {},
     "output_type": "execute_result"
    }
   ],
   "source": [
    "from IPython.display import HTML\n",
    "import random\n",
    "\n",
    "from IPython.core.interactiveshell import InteractiveShell \n",
    "InteractiveShell.ast_node_interactivity = \"all\"\n",
    "\n",
    "def hide_toggle(for_next=False):\n",
    "    this_cell = \"\"\"$('div.cell.code_cell.rendered.selected')\"\"\"\n",
    "    next_cell = this_cell + '.next()'\n",
    "\n",
    "    toggle_text = 'Toggle show/hide'  # text shown on toggle link\n",
    "    target_cell = this_cell  # target cell to control with toggle\n",
    "    js_hide_current = ''  # bit of JS to permanently hide code in current cell (only when toggling next cell)\n",
    "\n",
    "    if for_next:\n",
    "        target_cell = next_cell\n",
    "        toggle_text += ' next cell'\n",
    "        js_hide_current = this_cell + '.find(\"div.input\").hide();'\n",
    "\n",
    "    js_f_name = 'code_toggle_{}'.format(str(random.randint(1,2**64)))\n",
    "\n",
    "    html = \"\"\"\n",
    "        <script>\n",
    "            function {f_name}() {{\n",
    "                {cell_selector}.find('div.input').toggle();\n",
    "            }}\n",
    "\n",
    "            {js_hide_current}\n",
    "        </script>\n",
    "\n",
    "        <a href=\"javascript:{f_name}()\">{toggle_text}</a>\n",
    "    \"\"\".format(\n",
    "        f_name=js_f_name,\n",
    "        cell_selector=target_cell,\n",
    "        js_hide_current=js_hide_current, \n",
    "        toggle_text=toggle_text\n",
    "    )\n",
    "\n",
    "    return HTML(html)\n",
    "\n",
    "import pandas as pd\n",
    "import matplotlib.pyplot as plt\n",
    "import seaborn as sns\n",
    "\n",
    "df_bf = pd.read_csv('brute_force.csv')\n",
    "df_dp = pd.read_csv('dynamic_programming.csv')\n",
    "df_bb = pd.read_csv('branch_and_bound.csv')\n",
    "print(\"Zgromadzone dane dla algorytmu Brute Force:\")\n",
    "df_bf\n",
    "print()\n",
    "print(\"Zgromadzone dane dla algorytmu Dynamic Programming:\")\n",
    "df_dp\n",
    "print()\n",
    "print(\"Zgromadzone dane dla algorytmu Branch and Bound:\")\n",
    "df_bb\n",
    "hide_toggle()"
   ]
  },
  {
   "cell_type": "markdown",
   "metadata": {},
   "source": [
    "Jak widać, tabele różnią się testowanym rozmiarem danych. W przypadku Brute Force, zatrzymano się na rozmiarze 12, ponieważ rozmiar o 1 większy, potrzebowałby około godziny czasu, na obliczenie. W przypadku Dynamic Programming zakończono obliczenia na rozmiarze 21. Rozmiar 21 powodował wyczerpanie zasobów pamięci komputera. W przypadku Branch and Bound zatrzymano się na rozmiarze 21, ponieważ już ten rozmiar wymagał ok 10min na obliczenia. W przypadku B&B nie dokonano obliczeń dla rozmiaru 17, ponieważ był on dobrany w taki sposób, że pomimo całej nocy obliczeń, algorytm nie zakończył się jeszcze."
   ]
  },
  {
   "cell_type": "markdown",
   "metadata": {},
   "source": [
    "## Zgromadzone dane"
   ]
  },
  {
   "cell_type": "code",
   "execution_count": 3,
   "metadata": {},
   "outputs": [
    {
     "data": {
      "text/html": [
       "<div>\n",
       "<style scoped>\n",
       "    .dataframe tbody tr th:only-of-type {\n",
       "        vertical-align: middle;\n",
       "    }\n",
       "\n",
       "    .dataframe tbody tr th {\n",
       "        vertical-align: top;\n",
       "    }\n",
       "\n",
       "    .dataframe thead th {\n",
       "        text-align: right;\n",
       "    }\n",
       "</style>\n",
       "<table border=\"1\" class=\"dataframe\">\n",
       "  <thead>\n",
       "    <tr style=\"text-align: right;\">\n",
       "      <th></th>\n",
       "      <th>liczba powtorzen</th>\n",
       "      <th>najlepszy czas</th>\n",
       "      <th>najgorszy czas</th>\n",
       "      <th>t_bf(S)</th>\n",
       "      <th>PRD_bf(%)</th>\n",
       "    </tr>\n",
       "    <tr>\n",
       "      <th>rozmiar</th>\n",
       "      <th></th>\n",
       "      <th></th>\n",
       "      <th></th>\n",
       "      <th></th>\n",
       "      <th></th>\n",
       "    </tr>\n",
       "  </thead>\n",
       "  <tbody>\n",
       "    <tr>\n",
       "      <td>10</td>\n",
       "      <td>100</td>\n",
       "      <td>2.158228</td>\n",
       "      <td>2.662902</td>\n",
       "      <td>2.238442</td>\n",
       "      <td>3.583486</td>\n",
       "    </tr>\n",
       "    <tr>\n",
       "      <td>11</td>\n",
       "      <td>30</td>\n",
       "      <td>23.136159</td>\n",
       "      <td>24.492478</td>\n",
       "      <td>23.670302</td>\n",
       "      <td>2.256597</td>\n",
       "    </tr>\n",
       "    <tr>\n",
       "      <td>12</td>\n",
       "      <td>5</td>\n",
       "      <td>276.487765</td>\n",
       "      <td>305.168853</td>\n",
       "      <td>284.213509</td>\n",
       "      <td>2.718289</td>\n",
       "    </tr>\n",
       "  </tbody>\n",
       "</table>\n",
       "</div>"
      ],
      "text/plain": [
       "         liczba powtorzen  najlepszy czas  najgorszy czas     t_bf(S)  \\\n",
       "rozmiar                                                                 \n",
       "10                    100        2.158228        2.662902    2.238442   \n",
       "11                     30       23.136159       24.492478   23.670302   \n",
       "12                      5      276.487765      305.168853  284.213509   \n",
       "\n",
       "         PRD_bf(%)  \n",
       "rozmiar             \n",
       "10        3.583486  \n",
       "11        2.256597  \n",
       "12        2.718289  "
      ]
     },
     "execution_count": 3,
     "metadata": {},
     "output_type": "execute_result"
    },
    {
     "data": {
      "text/html": [
       "<div>\n",
       "<style scoped>\n",
       "    .dataframe tbody tr th:only-of-type {\n",
       "        vertical-align: middle;\n",
       "    }\n",
       "\n",
       "    .dataframe tbody tr th {\n",
       "        vertical-align: top;\n",
       "    }\n",
       "\n",
       "    .dataframe thead th {\n",
       "        text-align: right;\n",
       "    }\n",
       "</style>\n",
       "<table border=\"1\" class=\"dataframe\">\n",
       "  <thead>\n",
       "    <tr style=\"text-align: right;\">\n",
       "      <th></th>\n",
       "      <th>liczba powtorzen</th>\n",
       "      <th>najlepszy czas</th>\n",
       "      <th>najgorszy czas</th>\n",
       "      <th>t_dp(s)</th>\n",
       "      <th>PRD_dp(%)</th>\n",
       "    </tr>\n",
       "    <tr>\n",
       "      <th>rozmiar</th>\n",
       "      <th></th>\n",
       "      <th></th>\n",
       "      <th></th>\n",
       "      <th></th>\n",
       "      <th></th>\n",
       "    </tr>\n",
       "  </thead>\n",
       "  <tbody>\n",
       "    <tr>\n",
       "      <td>10</td>\n",
       "      <td>100</td>\n",
       "      <td>0.006980</td>\n",
       "      <td>0.017951</td>\n",
       "      <td>0.008248</td>\n",
       "      <td>15.372398</td>\n",
       "    </tr>\n",
       "    <tr>\n",
       "      <td>11</td>\n",
       "      <td>100</td>\n",
       "      <td>0.016955</td>\n",
       "      <td>0.023900</td>\n",
       "      <td>0.019617</td>\n",
       "      <td>13.571537</td>\n",
       "    </tr>\n",
       "    <tr>\n",
       "      <td>12</td>\n",
       "      <td>100</td>\n",
       "      <td>0.042885</td>\n",
       "      <td>0.086789</td>\n",
       "      <td>0.049228</td>\n",
       "      <td>12.885616</td>\n",
       "    </tr>\n",
       "    <tr>\n",
       "      <td>13</td>\n",
       "      <td>100</td>\n",
       "      <td>0.103722</td>\n",
       "      <td>0.187629</td>\n",
       "      <td>0.116094</td>\n",
       "      <td>10.657120</td>\n",
       "    </tr>\n",
       "    <tr>\n",
       "      <td>14</td>\n",
       "      <td>100</td>\n",
       "      <td>0.249332</td>\n",
       "      <td>0.330116</td>\n",
       "      <td>0.278224</td>\n",
       "      <td>10.384358</td>\n",
       "    </tr>\n",
       "    <tr>\n",
       "      <td>15</td>\n",
       "      <td>100</td>\n",
       "      <td>0.588426</td>\n",
       "      <td>0.832806</td>\n",
       "      <td>0.645609</td>\n",
       "      <td>8.857244</td>\n",
       "    </tr>\n",
       "    <tr>\n",
       "      <td>16</td>\n",
       "      <td>100</td>\n",
       "      <td>1.365388</td>\n",
       "      <td>1.839540</td>\n",
       "      <td>1.481443</td>\n",
       "      <td>7.833927</td>\n",
       "    </tr>\n",
       "    <tr>\n",
       "      <td>17</td>\n",
       "      <td>100</td>\n",
       "      <td>3.173515</td>\n",
       "      <td>4.452333</td>\n",
       "      <td>3.512160</td>\n",
       "      <td>9.642062</td>\n",
       "    </tr>\n",
       "    <tr>\n",
       "      <td>18</td>\n",
       "      <td>50</td>\n",
       "      <td>7.360358</td>\n",
       "      <td>10.577747</td>\n",
       "      <td>8.160626</td>\n",
       "      <td>9.806451</td>\n",
       "    </tr>\n",
       "    <tr>\n",
       "      <td>21</td>\n",
       "      <td>10</td>\n",
       "      <td>99.890408</td>\n",
       "      <td>106.504056</td>\n",
       "      <td>101.805529</td>\n",
       "      <td>1.881157</td>\n",
       "    </tr>\n",
       "  </tbody>\n",
       "</table>\n",
       "</div>"
      ],
      "text/plain": [
       "         liczba powtorzen  najlepszy czas  najgorszy czas     t_dp(s)  \\\n",
       "rozmiar                                                                 \n",
       "10                    100        0.006980        0.017951    0.008248   \n",
       "11                    100        0.016955        0.023900    0.019617   \n",
       "12                    100        0.042885        0.086789    0.049228   \n",
       "13                    100        0.103722        0.187629    0.116094   \n",
       "14                    100        0.249332        0.330116    0.278224   \n",
       "15                    100        0.588426        0.832806    0.645609   \n",
       "16                    100        1.365388        1.839540    1.481443   \n",
       "17                    100        3.173515        4.452333    3.512160   \n",
       "18                     50        7.360358       10.577747    8.160626   \n",
       "21                     10       99.890408      106.504056  101.805529   \n",
       "\n",
       "         PRD_dp(%)  \n",
       "rozmiar             \n",
       "10       15.372398  \n",
       "11       13.571537  \n",
       "12       12.885616  \n",
       "13       10.657120  \n",
       "14       10.384358  \n",
       "15        8.857244  \n",
       "16        7.833927  \n",
       "17        9.642062  \n",
       "18        9.806451  \n",
       "21        1.881157  "
      ]
     },
     "execution_count": 3,
     "metadata": {},
     "output_type": "execute_result"
    },
    {
     "data": {
      "text/html": [
       "<div>\n",
       "<style scoped>\n",
       "    .dataframe tbody tr th:only-of-type {\n",
       "        vertical-align: middle;\n",
       "    }\n",
       "\n",
       "    .dataframe tbody tr th {\n",
       "        vertical-align: top;\n",
       "    }\n",
       "\n",
       "    .dataframe thead th {\n",
       "        text-align: right;\n",
       "    }\n",
       "</style>\n",
       "<table border=\"1\" class=\"dataframe\">\n",
       "  <thead>\n",
       "    <tr style=\"text-align: right;\">\n",
       "      <th></th>\n",
       "      <th>liczba powtorzen</th>\n",
       "      <th>najlepszy czas</th>\n",
       "      <th>najgorszy czas</th>\n",
       "      <th>t_bb(s)</th>\n",
       "      <th>PRD_bb(%)</th>\n",
       "    </tr>\n",
       "    <tr>\n",
       "      <th>rozmiar</th>\n",
       "      <th></th>\n",
       "      <th></th>\n",
       "      <th></th>\n",
       "      <th></th>\n",
       "      <th></th>\n",
       "    </tr>\n",
       "  </thead>\n",
       "  <tbody>\n",
       "    <tr>\n",
       "      <td>10</td>\n",
       "      <td>100</td>\n",
       "      <td>0.171540</td>\n",
       "      <td>0.199495</td>\n",
       "      <td>0.181697</td>\n",
       "      <td>5.590232</td>\n",
       "    </tr>\n",
       "    <tr>\n",
       "      <td>11</td>\n",
       "      <td>100</td>\n",
       "      <td>0.190490</td>\n",
       "      <td>0.236366</td>\n",
       "      <td>0.200374</td>\n",
       "      <td>4.932761</td>\n",
       "    </tr>\n",
       "    <tr>\n",
       "      <td>12</td>\n",
       "      <td>100</td>\n",
       "      <td>0.084773</td>\n",
       "      <td>0.092787</td>\n",
       "      <td>0.089023</td>\n",
       "      <td>4.774176</td>\n",
       "    </tr>\n",
       "    <tr>\n",
       "      <td>13</td>\n",
       "      <td>100</td>\n",
       "      <td>0.136634</td>\n",
       "      <td>0.158577</td>\n",
       "      <td>0.144545</td>\n",
       "      <td>5.473298</td>\n",
       "    </tr>\n",
       "    <tr>\n",
       "      <td>14</td>\n",
       "      <td>100</td>\n",
       "      <td>0.150597</td>\n",
       "      <td>0.179545</td>\n",
       "      <td>0.158945</td>\n",
       "      <td>5.252197</td>\n",
       "    </tr>\n",
       "    <tr>\n",
       "      <td>15</td>\n",
       "      <td>100</td>\n",
       "      <td>1.636650</td>\n",
       "      <td>1.708430</td>\n",
       "      <td>1.670922</td>\n",
       "      <td>2.051092</td>\n",
       "    </tr>\n",
       "    <tr>\n",
       "      <td>16</td>\n",
       "      <td>50</td>\n",
       "      <td>6.858659</td>\n",
       "      <td>7.364317</td>\n",
       "      <td>6.945333</td>\n",
       "      <td>1.247943</td>\n",
       "    </tr>\n",
       "    <tr>\n",
       "      <td>18</td>\n",
       "      <td>50</td>\n",
       "      <td>6.304169</td>\n",
       "      <td>6.581401</td>\n",
       "      <td>6.377175</td>\n",
       "      <td>1.144796</td>\n",
       "    </tr>\n",
       "    <tr>\n",
       "      <td>21</td>\n",
       "      <td>5</td>\n",
       "      <td>599.286108</td>\n",
       "      <td>608.380921</td>\n",
       "      <td>603.042865</td>\n",
       "      <td>0.622967</td>\n",
       "    </tr>\n",
       "  </tbody>\n",
       "</table>\n",
       "</div>"
      ],
      "text/plain": [
       "         liczba powtorzen  najlepszy czas  najgorszy czas     t_bb(s)  \\\n",
       "rozmiar                                                                 \n",
       "10                    100        0.171540        0.199495    0.181697   \n",
       "11                    100        0.190490        0.236366    0.200374   \n",
       "12                    100        0.084773        0.092787    0.089023   \n",
       "13                    100        0.136634        0.158577    0.144545   \n",
       "14                    100        0.150597        0.179545    0.158945   \n",
       "15                    100        1.636650        1.708430    1.670922   \n",
       "16                     50        6.858659        7.364317    6.945333   \n",
       "18                     50        6.304169        6.581401    6.377175   \n",
       "21                      5      599.286108      608.380921  603.042865   \n",
       "\n",
       "         PRD_bb(%)  \n",
       "rozmiar             \n",
       "10        5.590232  \n",
       "11        4.932761  \n",
       "12        4.774176  \n",
       "13        5.473298  \n",
       "14        5.252197  \n",
       "15        2.051092  \n",
       "16        1.247943  \n",
       "18        1.144796  \n",
       "21        0.622967  "
      ]
     },
     "execution_count": 3,
     "metadata": {},
     "output_type": "execute_result"
    }
   ],
   "source": [
    "df_bf = df_bf.set_index('rozmiar')\n",
    "df_dp = df_dp.set_index('rozmiar')\n",
    "df_bb = df_bb.set_index('rozmiar')\n",
    "df_bf\n",
    "df_dp\n",
    "df_bb"
   ]
  },
  {
   "cell_type": "code",
   "execution_count": 4,
   "metadata": {},
   "outputs": [
    {
     "data": {
      "text/html": [
       "<div>\n",
       "<style scoped>\n",
       "    .dataframe tbody tr th:only-of-type {\n",
       "        vertical-align: middle;\n",
       "    }\n",
       "\n",
       "    .dataframe tbody tr th {\n",
       "        vertical-align: top;\n",
       "    }\n",
       "\n",
       "    .dataframe thead th {\n",
       "        text-align: right;\n",
       "    }\n",
       "</style>\n",
       "<table border=\"1\" class=\"dataframe\">\n",
       "  <thead>\n",
       "    <tr style=\"text-align: right;\">\n",
       "      <th></th>\n",
       "      <th>PRD_bf(%)</th>\n",
       "      <th>PRD_dp(%)</th>\n",
       "      <th>PRD_bb(%)</th>\n",
       "      <th>t_bf(S)</th>\n",
       "      <th>t_dp(s)</th>\n",
       "      <th>t_bb(s)</th>\n",
       "    </tr>\n",
       "    <tr>\n",
       "      <th>rozmiar</th>\n",
       "      <th></th>\n",
       "      <th></th>\n",
       "      <th></th>\n",
       "      <th></th>\n",
       "      <th></th>\n",
       "      <th></th>\n",
       "    </tr>\n",
       "  </thead>\n",
       "  <tbody>\n",
       "    <tr>\n",
       "      <td>10</td>\n",
       "      <td>3.583486</td>\n",
       "      <td>15.372398</td>\n",
       "      <td>5.590232</td>\n",
       "      <td>2.238442</td>\n",
       "      <td>0.008248</td>\n",
       "      <td>0.181697</td>\n",
       "    </tr>\n",
       "    <tr>\n",
       "      <td>11</td>\n",
       "      <td>2.256597</td>\n",
       "      <td>13.571537</td>\n",
       "      <td>4.932761</td>\n",
       "      <td>23.670302</td>\n",
       "      <td>0.019617</td>\n",
       "      <td>0.200374</td>\n",
       "    </tr>\n",
       "    <tr>\n",
       "      <td>12</td>\n",
       "      <td>2.718289</td>\n",
       "      <td>12.885616</td>\n",
       "      <td>4.774176</td>\n",
       "      <td>284.213509</td>\n",
       "      <td>0.049228</td>\n",
       "      <td>0.089023</td>\n",
       "    </tr>\n",
       "    <tr>\n",
       "      <td>13</td>\n",
       "      <td>NaN</td>\n",
       "      <td>10.657120</td>\n",
       "      <td>5.473298</td>\n",
       "      <td>NaN</td>\n",
       "      <td>0.116094</td>\n",
       "      <td>0.144545</td>\n",
       "    </tr>\n",
       "    <tr>\n",
       "      <td>14</td>\n",
       "      <td>NaN</td>\n",
       "      <td>10.384358</td>\n",
       "      <td>5.252197</td>\n",
       "      <td>NaN</td>\n",
       "      <td>0.278224</td>\n",
       "      <td>0.158945</td>\n",
       "    </tr>\n",
       "    <tr>\n",
       "      <td>15</td>\n",
       "      <td>NaN</td>\n",
       "      <td>8.857244</td>\n",
       "      <td>2.051092</td>\n",
       "      <td>NaN</td>\n",
       "      <td>0.645609</td>\n",
       "      <td>1.670922</td>\n",
       "    </tr>\n",
       "    <tr>\n",
       "      <td>16</td>\n",
       "      <td>NaN</td>\n",
       "      <td>7.833927</td>\n",
       "      <td>1.247943</td>\n",
       "      <td>NaN</td>\n",
       "      <td>1.481443</td>\n",
       "      <td>6.945333</td>\n",
       "    </tr>\n",
       "    <tr>\n",
       "      <td>17</td>\n",
       "      <td>NaN</td>\n",
       "      <td>9.642062</td>\n",
       "      <td>NaN</td>\n",
       "      <td>NaN</td>\n",
       "      <td>3.512160</td>\n",
       "      <td>NaN</td>\n",
       "    </tr>\n",
       "    <tr>\n",
       "      <td>18</td>\n",
       "      <td>NaN</td>\n",
       "      <td>9.806451</td>\n",
       "      <td>1.144796</td>\n",
       "      <td>NaN</td>\n",
       "      <td>8.160626</td>\n",
       "      <td>6.377175</td>\n",
       "    </tr>\n",
       "    <tr>\n",
       "      <td>21</td>\n",
       "      <td>NaN</td>\n",
       "      <td>1.881157</td>\n",
       "      <td>0.622967</td>\n",
       "      <td>NaN</td>\n",
       "      <td>101.805529</td>\n",
       "      <td>603.042865</td>\n",
       "    </tr>\n",
       "  </tbody>\n",
       "</table>\n",
       "</div>"
      ],
      "text/plain": [
       "         PRD_bf(%)  PRD_dp(%)  PRD_bb(%)     t_bf(S)     t_dp(s)     t_bb(s)\n",
       "rozmiar                                                                     \n",
       "10        3.583486  15.372398   5.590232    2.238442    0.008248    0.181697\n",
       "11        2.256597  13.571537   4.932761   23.670302    0.019617    0.200374\n",
       "12        2.718289  12.885616   4.774176  284.213509    0.049228    0.089023\n",
       "13             NaN  10.657120   5.473298         NaN    0.116094    0.144545\n",
       "14             NaN  10.384358   5.252197         NaN    0.278224    0.158945\n",
       "15             NaN   8.857244   2.051092         NaN    0.645609    1.670922\n",
       "16             NaN   7.833927   1.247943         NaN    1.481443    6.945333\n",
       "17             NaN   9.642062        NaN         NaN    3.512160         NaN\n",
       "18             NaN   9.806451   1.144796         NaN    8.160626    6.377175\n",
       "21             NaN   1.881157   0.622967         NaN  101.805529  603.042865"
      ]
     },
     "execution_count": 4,
     "metadata": {},
     "output_type": "execute_result"
    }
   ],
   "source": [
    "df_concat = pd.concat([df_bf['PRD_bf(%)'], df_dp['PRD_dp(%)'], df_bb['PRD_bb(%)'], df_bf['t_bf(S)'], df_dp['t_dp(s)'], df_bb['t_bb(s)']], axis=1)\n",
    "df_concat"
   ]
  },
  {
   "cell_type": "code",
   "execution_count": 7,
   "metadata": {},
   "outputs": [],
   "source": [
    "df_concat.to_csv('df_concat.csv', encoding='utf-8', sep='&')"
   ]
  },
  {
   "cell_type": "markdown",
   "metadata": {},
   "source": [
    "## Zestawienie danych na wykresie"
   ]
  },
  {
   "cell_type": "code",
   "execution_count": 149,
   "metadata": {},
   "outputs": [
    {
     "ename": "KeyError",
     "evalue": "'t_bf(s)'",
     "output_type": "error",
     "traceback": [
      "\u001b[1;31m---------------------------------------------------------------------------\u001b[0m",
      "\u001b[1;31mKeyError\u001b[0m                                  Traceback (most recent call last)",
      "\u001b[1;32m~\\Anaconda3\\lib\\site-packages\\pandas\\core\\indexes\\base.py\u001b[0m in \u001b[0;36mget_loc\u001b[1;34m(self, key, method, tolerance)\u001b[0m\n\u001b[0;32m   2896\u001b[0m             \u001b[1;32mtry\u001b[0m\u001b[1;33m:\u001b[0m\u001b[1;33m\u001b[0m\u001b[1;33m\u001b[0m\u001b[0m\n\u001b[1;32m-> 2897\u001b[1;33m                 \u001b[1;32mreturn\u001b[0m \u001b[0mself\u001b[0m\u001b[1;33m.\u001b[0m\u001b[0m_engine\u001b[0m\u001b[1;33m.\u001b[0m\u001b[0mget_loc\u001b[0m\u001b[1;33m(\u001b[0m\u001b[0mkey\u001b[0m\u001b[1;33m)\u001b[0m\u001b[1;33m\u001b[0m\u001b[1;33m\u001b[0m\u001b[0m\n\u001b[0m\u001b[0;32m   2898\u001b[0m             \u001b[1;32mexcept\u001b[0m \u001b[0mKeyError\u001b[0m\u001b[1;33m:\u001b[0m\u001b[1;33m\u001b[0m\u001b[1;33m\u001b[0m\u001b[0m\n",
      "\u001b[1;32mpandas\\_libs\\index.pyx\u001b[0m in \u001b[0;36mpandas._libs.index.IndexEngine.get_loc\u001b[1;34m()\u001b[0m\n",
      "\u001b[1;32mpandas\\_libs\\index.pyx\u001b[0m in \u001b[0;36mpandas._libs.index.IndexEngine.get_loc\u001b[1;34m()\u001b[0m\n",
      "\u001b[1;32mpandas\\_libs\\hashtable_class_helper.pxi\u001b[0m in \u001b[0;36mpandas._libs.hashtable.PyObjectHashTable.get_item\u001b[1;34m()\u001b[0m\n",
      "\u001b[1;32mpandas\\_libs\\hashtable_class_helper.pxi\u001b[0m in \u001b[0;36mpandas._libs.hashtable.PyObjectHashTable.get_item\u001b[1;34m()\u001b[0m\n",
      "\u001b[1;31mKeyError\u001b[0m: 't_bf(s)'",
      "\nDuring handling of the above exception, another exception occurred:\n",
      "\u001b[1;31mKeyError\u001b[0m                                  Traceback (most recent call last)",
      "\u001b[1;32m<ipython-input-149-2d246b462ab2>\u001b[0m in \u001b[0;36m<module>\u001b[1;34m\u001b[0m\n\u001b[0;32m      1\u001b[0m \u001b[0mdf\u001b[0m \u001b[1;33m=\u001b[0m \u001b[0mdf_bf\u001b[0m\u001b[1;33m\u001b[0m\u001b[1;33m\u001b[0m\u001b[0m\n\u001b[1;32m----> 2\u001b[1;33m \u001b[0mplt\u001b[0m\u001b[1;33m.\u001b[0m\u001b[0mscatter\u001b[0m\u001b[1;33m(\u001b[0m\u001b[0mdf\u001b[0m\u001b[1;33m.\u001b[0m\u001b[0mindex\u001b[0m\u001b[1;33m,\u001b[0m \u001b[0mdf\u001b[0m\u001b[1;33m[\u001b[0m\u001b[1;34m't_bf(s)'\u001b[0m\u001b[1;33m]\u001b[0m\u001b[1;33m)\u001b[0m\u001b[1;33m;\u001b[0m\u001b[1;33m\u001b[0m\u001b[1;33m\u001b[0m\u001b[0m\n\u001b[0m\u001b[0;32m      3\u001b[0m \u001b[0mplt\u001b[0m\u001b[1;33m.\u001b[0m\u001b[0mtitle\u001b[0m\u001b[1;33m(\u001b[0m\u001b[1;34m\"Brute Force\"\u001b[0m\u001b[1;33m)\u001b[0m\u001b[1;33m;\u001b[0m\u001b[1;33m\u001b[0m\u001b[1;33m\u001b[0m\u001b[0m\n\u001b[0;32m      4\u001b[0m \u001b[0mplt\u001b[0m\u001b[1;33m.\u001b[0m\u001b[0mylabel\u001b[0m\u001b[1;33m(\u001b[0m\u001b[1;34m'Średni czas [s]'\u001b[0m\u001b[1;33m)\u001b[0m\u001b[1;33m;\u001b[0m\u001b[1;33m\u001b[0m\u001b[1;33m\u001b[0m\u001b[0m\n\u001b[0;32m      5\u001b[0m \u001b[0mplt\u001b[0m\u001b[1;33m.\u001b[0m\u001b[0mxlabel\u001b[0m\u001b[1;33m(\u001b[0m\u001b[1;34m'Rozmiar'\u001b[0m\u001b[1;33m)\u001b[0m\u001b[1;33m;\u001b[0m\u001b[1;33m\u001b[0m\u001b[1;33m\u001b[0m\u001b[0m\n",
      "\u001b[1;32m~\\Anaconda3\\lib\\site-packages\\pandas\\core\\frame.py\u001b[0m in \u001b[0;36m__getitem__\u001b[1;34m(self, key)\u001b[0m\n\u001b[0;32m   2978\u001b[0m             \u001b[1;32mif\u001b[0m \u001b[0mself\u001b[0m\u001b[1;33m.\u001b[0m\u001b[0mcolumns\u001b[0m\u001b[1;33m.\u001b[0m\u001b[0mnlevels\u001b[0m \u001b[1;33m>\u001b[0m \u001b[1;36m1\u001b[0m\u001b[1;33m:\u001b[0m\u001b[1;33m\u001b[0m\u001b[1;33m\u001b[0m\u001b[0m\n\u001b[0;32m   2979\u001b[0m                 \u001b[1;32mreturn\u001b[0m \u001b[0mself\u001b[0m\u001b[1;33m.\u001b[0m\u001b[0m_getitem_multilevel\u001b[0m\u001b[1;33m(\u001b[0m\u001b[0mkey\u001b[0m\u001b[1;33m)\u001b[0m\u001b[1;33m\u001b[0m\u001b[1;33m\u001b[0m\u001b[0m\n\u001b[1;32m-> 2980\u001b[1;33m             \u001b[0mindexer\u001b[0m \u001b[1;33m=\u001b[0m \u001b[0mself\u001b[0m\u001b[1;33m.\u001b[0m\u001b[0mcolumns\u001b[0m\u001b[1;33m.\u001b[0m\u001b[0mget_loc\u001b[0m\u001b[1;33m(\u001b[0m\u001b[0mkey\u001b[0m\u001b[1;33m)\u001b[0m\u001b[1;33m\u001b[0m\u001b[1;33m\u001b[0m\u001b[0m\n\u001b[0m\u001b[0;32m   2981\u001b[0m             \u001b[1;32mif\u001b[0m \u001b[0mis_integer\u001b[0m\u001b[1;33m(\u001b[0m\u001b[0mindexer\u001b[0m\u001b[1;33m)\u001b[0m\u001b[1;33m:\u001b[0m\u001b[1;33m\u001b[0m\u001b[1;33m\u001b[0m\u001b[0m\n\u001b[0;32m   2982\u001b[0m                 \u001b[0mindexer\u001b[0m \u001b[1;33m=\u001b[0m \u001b[1;33m[\u001b[0m\u001b[0mindexer\u001b[0m\u001b[1;33m]\u001b[0m\u001b[1;33m\u001b[0m\u001b[1;33m\u001b[0m\u001b[0m\n",
      "\u001b[1;32m~\\Anaconda3\\lib\\site-packages\\pandas\\core\\indexes\\base.py\u001b[0m in \u001b[0;36mget_loc\u001b[1;34m(self, key, method, tolerance)\u001b[0m\n\u001b[0;32m   2897\u001b[0m                 \u001b[1;32mreturn\u001b[0m \u001b[0mself\u001b[0m\u001b[1;33m.\u001b[0m\u001b[0m_engine\u001b[0m\u001b[1;33m.\u001b[0m\u001b[0mget_loc\u001b[0m\u001b[1;33m(\u001b[0m\u001b[0mkey\u001b[0m\u001b[1;33m)\u001b[0m\u001b[1;33m\u001b[0m\u001b[1;33m\u001b[0m\u001b[0m\n\u001b[0;32m   2898\u001b[0m             \u001b[1;32mexcept\u001b[0m \u001b[0mKeyError\u001b[0m\u001b[1;33m:\u001b[0m\u001b[1;33m\u001b[0m\u001b[1;33m\u001b[0m\u001b[0m\n\u001b[1;32m-> 2899\u001b[1;33m                 \u001b[1;32mreturn\u001b[0m \u001b[0mself\u001b[0m\u001b[1;33m.\u001b[0m\u001b[0m_engine\u001b[0m\u001b[1;33m.\u001b[0m\u001b[0mget_loc\u001b[0m\u001b[1;33m(\u001b[0m\u001b[0mself\u001b[0m\u001b[1;33m.\u001b[0m\u001b[0m_maybe_cast_indexer\u001b[0m\u001b[1;33m(\u001b[0m\u001b[0mkey\u001b[0m\u001b[1;33m)\u001b[0m\u001b[1;33m)\u001b[0m\u001b[1;33m\u001b[0m\u001b[1;33m\u001b[0m\u001b[0m\n\u001b[0m\u001b[0;32m   2900\u001b[0m         \u001b[0mindexer\u001b[0m \u001b[1;33m=\u001b[0m \u001b[0mself\u001b[0m\u001b[1;33m.\u001b[0m\u001b[0mget_indexer\u001b[0m\u001b[1;33m(\u001b[0m\u001b[1;33m[\u001b[0m\u001b[0mkey\u001b[0m\u001b[1;33m]\u001b[0m\u001b[1;33m,\u001b[0m \u001b[0mmethod\u001b[0m\u001b[1;33m=\u001b[0m\u001b[0mmethod\u001b[0m\u001b[1;33m,\u001b[0m \u001b[0mtolerance\u001b[0m\u001b[1;33m=\u001b[0m\u001b[0mtolerance\u001b[0m\u001b[1;33m)\u001b[0m\u001b[1;33m\u001b[0m\u001b[1;33m\u001b[0m\u001b[0m\n\u001b[0;32m   2901\u001b[0m         \u001b[1;32mif\u001b[0m \u001b[0mindexer\u001b[0m\u001b[1;33m.\u001b[0m\u001b[0mndim\u001b[0m \u001b[1;33m>\u001b[0m \u001b[1;36m1\u001b[0m \u001b[1;32mor\u001b[0m \u001b[0mindexer\u001b[0m\u001b[1;33m.\u001b[0m\u001b[0msize\u001b[0m \u001b[1;33m>\u001b[0m \u001b[1;36m1\u001b[0m\u001b[1;33m:\u001b[0m\u001b[1;33m\u001b[0m\u001b[1;33m\u001b[0m\u001b[0m\n",
      "\u001b[1;32mpandas\\_libs\\index.pyx\u001b[0m in \u001b[0;36mpandas._libs.index.IndexEngine.get_loc\u001b[1;34m()\u001b[0m\n",
      "\u001b[1;32mpandas\\_libs\\index.pyx\u001b[0m in \u001b[0;36mpandas._libs.index.IndexEngine.get_loc\u001b[1;34m()\u001b[0m\n",
      "\u001b[1;32mpandas\\_libs\\hashtable_class_helper.pxi\u001b[0m in \u001b[0;36mpandas._libs.hashtable.PyObjectHashTable.get_item\u001b[1;34m()\u001b[0m\n",
      "\u001b[1;32mpandas\\_libs\\hashtable_class_helper.pxi\u001b[0m in \u001b[0;36mpandas._libs.hashtable.PyObjectHashTable.get_item\u001b[1;34m()\u001b[0m\n",
      "\u001b[1;31mKeyError\u001b[0m: 't_bf(s)'"
     ]
    }
   ],
   "source": [
    "df = df_bf\n",
    "plt.scatter(df.index, df['t_bf(s)']);\n",
    "plt.title(\"Brute Force\");\n",
    "plt.ylabel('Średni czas [s]');\n",
    "plt.xlabel('Rozmiar');"
   ]
  },
  {
   "cell_type": "code",
   "execution_count": 129,
   "metadata": {},
   "outputs": [
    {
     "data": {
      "image/png": "[encoded data removed]",
      "text/plain": [
       "<Figure size 432x288 with 1 Axes>"
      ]
     },
     "metadata": {
      "needs_background": "light"
     },
     "output_type": "display_data"
    }
   ],
   "source": [
    "df = df_dp\n",
    "plt.scatter(df['rozmiar'].astype('str'), df['sredni czas']);\n",
    "plt.title(\"Brute Force\");\n",
    "plt.ylabel('Średni czas [s]');\n",
    "plt.xlabel('Rozmiar');"
   ]
  },
  {
   "cell_type": "code",
   "execution_count": 122,
   "metadata": {},
   "outputs": [
    {
     "data": {
      "image/png": "[encoded data removed]",
      "text/plain": [
       "<Figure size 432x288 with 1 Axes>"
      ]
     },
     "metadata": {
      "needs_background": "light"
     },
     "output_type": "display_data"
    }
   ],
   "source": [
    "df = df_bb\n",
    "plt.scatter(df['rozmiar'].astype('str'), df['sredni czas']);\n",
    "plt.title(\"Brute Force\");\n",
    "plt.ylabel('Średni czas [s]');\n",
    "plt.xlabel('Rozmiar');"
   ]
  }
 ],
 "metadata": {
  "kernelspec": {
   "display_name": "Python 3",
   "language": "python",
   "name": "python3"
  },
  "language_info": {
   "codemirror_mode": {
    "name": "ipython",
    "version": 3
   },
   "file_extension": ".py",
   "mimetype": "text/x-python",
   "name": "python",
   "nbconvert_exporter": "python",
   "pygments_lexer": "ipython3",
   "version": "3.7.4"
  },
  "toc": {
   "base_numbering": 1,
   "nav_menu": {},
   "number_sections": true,
   "sideBar": true,
   "skip_h1_title": false,
   "title_cell": "Table of Contents",
   "title_sidebar": "Contents",
   "toc_cell": false,
   "toc_position": {},
   "toc_section_display": true,
   "toc_window_display": false
  }
 },
 "nbformat": 4,
 "nbformat_minor": 2
}
