{
 "cells": [
  {
   "cell_type": "markdown",
   "metadata": {},
   "source": [
    "# Cały algorytm"
   ]
  },
  {
   "cell_type": "code",
   "execution_count": 9,
   "metadata": {},
   "outputs": [],
   "source": [
    "import numpy as np\n",
    "import pandas as pd\n",
    "import math\n",
    "import datetime"
   ]
  },
  {
   "cell_type": "code",
   "execution_count": 10,
   "metadata": {},
   "outputs": [],
   "source": [
    "def wczytanieMacierzy(rozmiar):\n",
    "    file = 'Dane/data{}.txt'.format(rozmiar)\n",
    "    df = pd.read_csv(file, nrows=2, header=None)\n",
    "    name = df[df.index==0].values[0][0]\n",
    "    n = int(df[df.index==1].values[0][0])\n",
    "\n",
    "    df = pd.read_csv(file, skiprows=2, sep='\\s+', header=None)\n",
    "    arr = df.values\n",
    "    return arr"
   ]
  },
  {
   "cell_type": "code",
   "execution_count": 12,
   "metadata": {},
   "outputs": [],
   "source": [
    "def _heap_perm_(n, A):\n",
    "    if n == 1: yield A\n",
    "    else:\n",
    "        for i in range(n-1):\n",
    "            for hp in _heap_perm_(n-1, A): yield hp\n",
    "            j = 0 if (n % 2) == 1 else i\n",
    "            A[j],A[n-1] = A[n-1],A[j]\n",
    "        for hp in _heap_perm_(n-1, A): yield hp"
   ]
  },
  {
   "cell_type": "code",
   "execution_count": 13,
   "metadata": {},
   "outputs": [],
   "source": [
    "def countPath(path, arr, rozmiar):\n",
    "    new_path=0\n",
    "    new_path+=arr[0][path[0]]\n",
    "    for step in range(rozmiar-2):\n",
    "        new_path+=arr[path[step]][path[step+1]]\n",
    "    new_path+=arr[path[rozmiar-2]][0]\n",
    "    return new_path"
   ]
  },
  {
   "cell_type": "code",
   "execution_count": 14,
   "metadata": {},
   "outputs": [],
   "source": [
    "def obliczenieCzasu(arr, rozmiar):\n",
    "    start = datetime.datetime.now()\n",
    "    b=_heap_perm_(rozmiar-1,list(range(1,rozmiar)))\n",
    "    path = next(b)\n",
    "    min_path = path\n",
    "    min_length = countPath(path, arr, rozmiar)\n",
    "\n",
    "    for i in range(math.factorial(rozmiar-1)-1):\n",
    "        path = next(b)\n",
    "        length = countPath(path, arr, rozmiar)\n",
    "        if length < min_length:\n",
    "            min_length = length\n",
    "            min_path = path\n",
    "    duration = datetime.datetime.now() - start\n",
    "    return duration.total_seconds()"
   ]
  },
  {
   "cell_type": "code",
   "execution_count": 15,
   "metadata": {},
   "outputs": [],
   "source": [
    "def obliczenia(rozmiary, liczba_powtorzen):\n",
    "    srednie_czasy = []\n",
    "    najlepsze_czasy = []\n",
    "    najgorsze_czasy = []\n",
    "    \n",
    "    for nr, rozmiar in enumerate(rozmiary):\n",
    "        ilosc_powtorzen = liczba_powtorzen[nr]\n",
    "        najlepszy_czas = 999999999\n",
    "        najgorszy_czas = 0\n",
    "        suma_czasow = 0\n",
    "        \n",
    "        for powtorzenie in range(ilosc_powtorzen):\n",
    "            arr = wczytanieMacierzy(rozmiar)\n",
    "            czas = obliczenieCzasu(arr, rozmiar)\n",
    "            if czas < najlepszy_czas:\n",
    "                najlepszy_czas = czas\n",
    "            \n",
    "            if czas > najgorszy_czas:\n",
    "                najgorszy_czas = czas\n",
    "                \n",
    "            suma_czasow += czas\n",
    "        \n",
    "        sredni_czas = suma_czasow / ilosc_powtorzen\n",
    "        najlepsze_czasy.append(najlepszy_czas)\n",
    "        najgorsze_czasy.append(najgorszy_czas)\n",
    "        srednie_czasy.append(sredni_czas)\n",
    "    \n",
    "    return najlepsze_czasy, najgorsze_czasy, srednie_czasy"
   ]
  },
  {
   "cell_type": "code",
   "execution_count": 16,
   "metadata": {},
   "outputs": [],
   "source": [
    "rozmiary = [10,11,12]\n",
    "liczba_powtorzen = [100,30,5]\n",
    "#liczba_powtorzen = [1,1,1]\n",
    "najlepsze_czasy, najgorsze_czasy, srednie_czasy = obliczenia(rozmiary, liczba_powtorzen)"
   ]
  },
  {
   "cell_type": "code",
   "execution_count": 17,
   "metadata": {},
   "outputs": [
    {
     "name": "stdout",
     "output_type": "stream",
     "text": [
      "Rozmiar:  10 , liczba powtorzen:  100 , najgorsze_czasy:  2.662902 , najlepszy czas:  2.158228 , sredni czas:  2.2384422600000007\n",
      "Rozmiar:  11 , liczba powtorzen:  30 , najgorsze_czasy:  24.492478 , najlepszy czas:  23.136159 , sredni czas:  23.670302233333334\n",
      "Rozmiar:  12 , liczba powtorzen:  5 , najgorsze_czasy:  305.168853 , najlepszy czas:  276.487765 , sredni czas:  284.2135088\n"
     ]
    }
   ],
   "source": [
    "for i in range(len(rozmiary)):\n",
    "    print('Rozmiar: ', rozmiary[i], ', liczba powtorzen: ', liczba_powtorzen[i], ', najgorsze_czasy: ', najgorsze_czasy[i], ', najlepszy czas: ', najlepsze_czasy[i], ', sredni czas: ', srednie_czasy[i])"
   ]
  },
  {
   "cell_type": "code",
   "execution_count": 18,
   "metadata": {},
   "outputs": [],
   "source": [
    "PRD = []\n",
    "for i in range(len(rozmiary)):\n",
    "    PRD.append(100*(srednie_czasy[i] - najlepsze_czasy[i])/srednie_czasy[i])"
   ]
  },
  {
   "cell_type": "code",
   "execution_count": 19,
   "metadata": {},
   "outputs": [],
   "source": [
    "df_brute_force = pd.DataFrame({\n",
    "    'rozmiar' : rozmiary,\n",
    "    'liczba powtorzen' : liczba_powtorzen,\n",
    "    'najlepszy czas' : najlepsze_czasy,\n",
    "    'najgorszy czas' : najgorsze_czasy,\n",
    "    'sredni czas' : srednie_czasy,\n",
    "    'PRD' : PRD\n",
    "})"
   ]
  },
  {
   "cell_type": "code",
   "execution_count": 20,
   "metadata": {},
   "outputs": [
    {
     "data": {
      "text/html": [
       "<div>\n",
       "<style scoped>\n",
       "    .dataframe tbody tr th:only-of-type {\n",
       "        vertical-align: middle;\n",
       "    }\n",
       "\n",
       "    .dataframe tbody tr th {\n",
       "        vertical-align: top;\n",
       "    }\n",
       "\n",
       "    .dataframe thead th {\n",
       "        text-align: right;\n",
       "    }\n",
       "</style>\n",
       "<table border=\"1\" class=\"dataframe\">\n",
       "  <thead>\n",
       "    <tr style=\"text-align: right;\">\n",
       "      <th></th>\n",
       "      <th>rozmiar</th>\n",
       "      <th>liczba powtorzen</th>\n",
       "      <th>najlepszy czas</th>\n",
       "      <th>najgorszy czas</th>\n",
       "      <th>sredni czas</th>\n",
       "      <th>PRD</th>\n",
       "    </tr>\n",
       "  </thead>\n",
       "  <tbody>\n",
       "    <tr>\n",
       "      <td>0</td>\n",
       "      <td>10</td>\n",
       "      <td>100</td>\n",
       "      <td>2.158228</td>\n",
       "      <td>2.662902</td>\n",
       "      <td>2.238442</td>\n",
       "      <td>3.583486</td>\n",
       "    </tr>\n",
       "    <tr>\n",
       "      <td>1</td>\n",
       "      <td>11</td>\n",
       "      <td>30</td>\n",
       "      <td>23.136159</td>\n",
       "      <td>24.492478</td>\n",
       "      <td>23.670302</td>\n",
       "      <td>2.256597</td>\n",
       "    </tr>\n",
       "    <tr>\n",
       "      <td>2</td>\n",
       "      <td>12</td>\n",
       "      <td>5</td>\n",
       "      <td>276.487765</td>\n",
       "      <td>305.168853</td>\n",
       "      <td>284.213509</td>\n",
       "      <td>2.718289</td>\n",
       "    </tr>\n",
       "  </tbody>\n",
       "</table>\n",
       "</div>"
      ],
      "text/plain": [
       "   rozmiar  liczba powtorzen  najlepszy czas  najgorszy czas  sredni czas  \\\n",
       "0       10               100        2.158228        2.662902     2.238442   \n",
       "1       11                30       23.136159       24.492478    23.670302   \n",
       "2       12                 5      276.487765      305.168853   284.213509   \n",
       "\n",
       "        PRD  \n",
       "0  3.583486  \n",
       "1  2.256597  \n",
       "2  2.718289  "
      ]
     },
     "execution_count": 20,
     "metadata": {},
     "output_type": "execute_result"
    }
   ],
   "source": [
    "df_brute_force"
   ]
  },
  {
   "cell_type": "code",
   "execution_count": 21,
   "metadata": {},
   "outputs": [],
   "source": [
    "df_brute_force.to_csv('brute_force.csv', encoding='utf-8', index=False)"
   ]
  },
  {
   "cell_type": "code",
   "execution_count": null,
   "metadata": {},
   "outputs": [],
   "source": []
  },
  {
   "cell_type": "markdown",
   "metadata": {},
   "source": [
    "# Generowanie wszystkich kombinacji"
   ]
  },
  {
   "cell_type": "code",
   "execution_count": null,
   "metadata": {},
   "outputs": [],
   "source": [
    "def _heap_perm_(n, A):\n",
    "    if n == 1: yield A\n",
    "    else:\n",
    "        for i in range(n-1):\n",
    "            for hp in _heap_perm_(n-1, A): yield hp\n",
    "            j = 0 if (n % 2) == 1 else i\n",
    "            A[j],A[n-1] = A[n-1],A[j]\n",
    "        for hp in _heap_perm_(n-1, A): yield hp"
   ]
  },
  {
   "cell_type": "markdown",
   "metadata": {},
   "source": [
    "# Szukanie najkrótszej ścieżki\n"
   ]
  },
  {
   "cell_type": "code",
   "execution_count": null,
   "metadata": {},
   "outputs": [],
   "source": [
    "def countPath(path):\n",
    "    new_path=0\n",
    "    new_path+=arr[0][path[0]]\n",
    "    for step in range(n-2):\n",
    "        new_path+=arr[path[step]][path[step+1]]\n",
    "    new_path+=arr[path[n-2]][0]\n",
    "    return new_path"
   ]
  },
  {
   "cell_type": "code",
   "execution_count": null,
   "metadata": {},
   "outputs": [],
   "source": [
    "n = 10\n",
    "file = 'Dane/SMALL/data{}.txt'.format(n)\n",
    "df = pd.read_csv(file, nrows=2, header=None)\n",
    "name = df[df.index==0].values[0][0]\n",
    "n = int(df[df.index==1].values[0][0])\n",
    "\n",
    "df = pd.read_csv(file, skiprows=2, sep='\\s+', header=None)\n",
    "arr = df.values"
   ]
  },
  {
   "cell_type": "code",
   "execution_count": null,
   "metadata": {},
   "outputs": [],
   "source": [
    "%%timeit -o -r 1 -n 1"
   ]
  },
  {
   "cell_type": "code",
   "execution_count": null,
   "metadata": {
    "scrolled": true
   },
   "outputs": [],
   "source": []
  },
  {
   "cell_type": "code",
   "execution_count": null,
   "metadata": {},
   "outputs": [],
   "source": [
    "print(duration)"
   ]
  },
  {
   "cell_type": "code",
   "execution_count": null,
   "metadata": {},
   "outputs": [],
   "source": [
    "print(min_path)\n",
    "print(min_length)"
   ]
  },
  {
   "cell_type": "code",
   "execution_count": null,
   "metadata": {},
   "outputs": [],
   "source": [
    "def heapPermutation(a, size, n): \n",
    "    if (size == 1): \n",
    "        b.append(a)\n",
    "        return\n",
    "  \n",
    "    for i in range(size): \n",
    "        heapPermutation(a,size-1,n); \n",
    "        if size&1: \n",
    "            a[0], a[size-1] = a[size-1],a[0] \n",
    "        else: \n",
    "            a[i], a[size-1] = a[size-1],a[i] "
   ]
  },
  {
   "cell_type": "code",
   "execution_count": null,
   "metadata": {},
   "outputs": [],
   "source": [
    "%%time\n",
    "b=list()\n",
    "heapPermutation(list(range(1,n)), n-1, n-1)\n",
    "min_path = b[0]\n",
    "min_length = countPath(path)\n",
    "for i in range(1,math.factorial(n-1)):\n",
    "    path = b[i]\n",
    "    length = countPath(path)\n",
    "    if length < min_length:\n",
    "        min_length = length\n",
    "        min_path = path"
   ]
  },
  {
   "cell_type": "code",
   "execution_count": null,
   "metadata": {},
   "outputs": [],
   "source": [
    "print(min_path)\n",
    "print(min_length)"
   ]
  },
  {
   "cell_type": "code",
   "execution_count": null,
   "metadata": {},
   "outputs": [],
   "source": []
  },
  {
   "cell_type": "code",
   "execution_count": null,
   "metadata": {},
   "outputs": [],
   "source": []
  },
  {
   "cell_type": "code",
   "execution_count": null,
   "metadata": {},
   "outputs": [],
   "source": []
  },
  {
   "cell_type": "code",
   "execution_count": null,
   "metadata": {},
   "outputs": [],
   "source": [
    "%%time\n",
    "b=list()\n",
    "heapPermutation(list(range(1,n)), n-1, n-1)\n",
    "min_path = b[0]\n",
    "min_length = countPath(path)\n",
    "for i in range(1,math.factorial(n-1)):\n",
    "    path = b[i]"
   ]
  },
  {
   "cell_type": "code",
   "execution_count": null,
   "metadata": {},
   "outputs": [],
   "source": [
    "%%time\n",
    "b=_heap_perm_(n-1,list(range(1,n)))\n",
    "path = next(b)\n",
    "min_path = path\n",
    "min_length = countPath(path)\n",
    "\n",
    "for i in range(math.factorial(n-1)-1):\n",
    "    path = next(b)"
   ]
  }
 ],
 "metadata": {
  "kernelspec": {
   "display_name": "Python 3",
   "language": "python",
   "name": "python3"
  },
  "language_info": {
   "codemirror_mode": {
    "name": "ipython",
    "version": 3
   },
   "file_extension": ".py",
   "mimetype": "text/x-python",
   "name": "python",
   "nbconvert_exporter": "python",
   "pygments_lexer": "ipython3",
   "version": "3.7.4"
  },
  "toc": {
   "base_numbering": 1,
   "nav_menu": {},
   "number_sections": true,
   "sideBar": true,
   "skip_h1_title": false,
   "title_cell": "Table of Contents",
   "title_sidebar": "Contents",
   "toc_cell": false,
   "toc_position": {},
   "toc_section_display": true,
   "toc_window_display": false
  },
  "varInspector": {
   "cols": {
    "lenName": 16,
    "lenType": 16,
    "lenVar": 40
   },
   "kernels_config": {
    "python": {
     "delete_cmd_postfix": "",
     "delete_cmd_prefix": "del ",
     "library": "var_list.py",
     "varRefreshCmd": "print(var_dic_list())"
    },
    "r": {
     "delete_cmd_postfix": ") ",
     "delete_cmd_prefix": "rm(",
     "library": "var_list.r",
     "varRefreshCmd": "cat(var_dic_list()) "
    }
   },
   "position": {
    "height": "401px",
    "left": "434px",
    "right": "20px",
    "top": "123px",
    "width": "800px"
   },
   "types_to_exclude": [
    "module",
    "function",
    "builtin_function_or_method",
    "instance",
    "_Feature"
   ],
   "window_display": false
  }
 },
 "nbformat": 4,
 "nbformat_minor": 2
}
