{
 "cells": [
  {
   "cell_type": "code",
   "execution_count": 15,
   "metadata": {},
   "outputs": [],
   "source": [
    "import numpy as np\n",
    "import pandas as pd\n",
    "import math\n",
    "import datetime"
   ]
  },
  {
   "cell_type": "code",
   "execution_count": 16,
   "metadata": {},
   "outputs": [],
   "source": [
    "def wczytanieMacierzy(rozmiar):\n",
    "    file = 'Dane/data{}.txt'.format(rozmiar)\n",
    "    df = pd.read_csv(file, nrows=2, header=None)\n",
    "    name = df[df.index==0].values[0][0]\n",
    "    n = int(df[df.index==1].values[0][0])\n",
    "\n",
    "    df = pd.read_csv(file, skiprows=2, sep='\\s+', header=None)\n",
    "    arr = df.values\n",
    "    arr = arr.astype('float64')\n",
    "    for i in range(n):\n",
    "        arr[i,i]=np.nan\n",
    "    return arr"
   ]
  },
  {
   "cell_type": "code",
   "execution_count": 17,
   "metadata": {},
   "outputs": [],
   "source": [
    "def ReduceMatrix(array):\n",
    "    reduceValue = 0.0\n",
    "    for i in range(array.shape[0]):\n",
    "        minValue = np.nanmin(array[i])\n",
    "        minValue = np.nan_to_num(minValue) # aby zapobiec sytuacji, gdzie minValue == nan\n",
    "        reduceValue += minValue\n",
    "        array[i] -= minValue\n",
    "    for i in range(array.shape[1]):\n",
    "        minValue = np.nanmin(array[:,i])\n",
    "        minValue = np.nan_to_num(minValue)\n",
    "        reduceValue += minValue\n",
    "        array[:,i] -= minValue\n",
    "    return reduceValue, array"
   ]
  },
  {
   "cell_type": "code",
   "execution_count": 22,
   "metadata": {},
   "outputs": [],
   "source": [
    "def obliczenieCzasu(arr, n):\n",
    "    start = datetime.datetime.now()\n",
    "    \n",
    "    first_reduce_cost, first_reduce_arr = ReduceMatrix(arr.copy())\n",
    "    first_bits = 1\n",
    "    vertices = np.arange(1,n)\n",
    "    vertices = list(vertices)\n",
    "    number_of_vertices = n-1\n",
    "    my_vertice_number = 0\n",
    "\n",
    "    index = 0\n",
    "\n",
    "    path = list()\n",
    "    path.append(0)\n",
    "    all_data = list()\n",
    "    all_data.append((first_reduce_cost, number_of_vertices, first_bits, index, first_reduce_arr, vertices, my_vertice_number,path))\n",
    "\n",
    "\n",
    "    end_value = (1<<n) - 1 #jedynki na wszyskich miejscach, czyli każdy wierzchołek odwiedzony\n",
    "\n",
    "    while True:\n",
    "        data = min(all_data)\n",
    "        old_bits = data[2]\n",
    "        if old_bits == end_value:\n",
    "            break\n",
    "\n",
    "        old_reduce_cost = data[0]\n",
    "        old_number_of_vertices = data[1]\n",
    "        old_reduce_arr = data[4]\n",
    "        old_vertices = data[5]\n",
    "        parent = data[6]\n",
    "        old_path = data[7]\n",
    "\n",
    "        number_of_vertices = old_number_of_vertices - 1\n",
    "\n",
    "        for vertice in old_vertices:\n",
    "            # Przygotowanie macierzy\n",
    "            new_arr = old_reduce_arr.copy()\n",
    "            new_arr[parent] = np.nan\n",
    "            new_arr[:,vertice] = np.nan\n",
    "            new_arr[vertice,parent] = np.nan\n",
    "            reduce_cost, reduce_arr = ReduceMatrix(new_arr.copy())\n",
    "            reduce_cost = old_reduce_arr[parent, vertice] + old_reduce_cost + reduce_cost\n",
    "\n",
    "            bits = old_bits\n",
    "            bits |= 1 << vertice\n",
    "\n",
    "            vertices = old_vertices.copy()\n",
    "            vertices.remove(vertice) \n",
    "\n",
    "            path = old_path.copy()\n",
    "            path.append(vertice)\n",
    "\n",
    "            index += 1\n",
    "\n",
    "            all_data.append((reduce_cost, number_of_vertices, bits, index, reduce_arr, vertices, vertice, path))  \n",
    "\n",
    "        all_data.remove(data)\n",
    "\n",
    "    data = min(all_data)\n",
    "    path = data[-1].copy()\n",
    "    path.append(0)\n",
    "    \n",
    "    duration = datetime.datetime.now() - start\n",
    "    return duration.total_seconds()"
   ]
  },
  {
   "cell_type": "code",
   "execution_count": 19,
   "metadata": {},
   "outputs": [],
   "source": [
    "def obliczenia(rozmiary, liczba_powtorzen):\n",
    "    srednie_czasy = []\n",
    "    najlepsze_czasy = []\n",
    "    najgorsze_czasy = []\n",
    "    \n",
    "    for nr, rozmiar in enumerate(rozmiary):\n",
    "        ilosc_powtorzen = liczba_powtorzen[nr]\n",
    "        najlepszy_czas = 999999999\n",
    "        najgorszy_czas = 0\n",
    "        suma_czasow = 0\n",
    "        \n",
    "        for powtorzenie in range(ilosc_powtorzen):\n",
    "            arr = wczytanieMacierzy(rozmiar)\n",
    "            czas = obliczenieCzasu(arr, rozmiar)\n",
    "            if czas < najlepszy_czas:\n",
    "                najlepszy_czas = czas\n",
    "            \n",
    "            if czas > najgorszy_czas:\n",
    "                najgorszy_czas = czas\n",
    "                \n",
    "            suma_czasow += czas\n",
    "        \n",
    "        sredni_czas = suma_czasow / ilosc_powtorzen\n",
    "        najlepsze_czasy.append(najlepszy_czas)\n",
    "        najgorsze_czasy.append(najgorszy_czas)\n",
    "        srednie_czasy.append(sredni_czas)\n",
    "    \n",
    "    return najlepsze_czasy, najgorsze_czasy, srednie_czasy"
   ]
  },
  {
   "cell_type": "code",
   "execution_count": 24,
   "metadata": {},
   "outputs": [
    {
     "name": "stderr",
     "output_type": "stream",
     "text": [
      "C:\\Users\\kulaw\\Anaconda3\\lib\\site-packages\\ipykernel_launcher.py:4: RuntimeWarning: All-NaN slice encountered\n",
      "  after removing the cwd from sys.path.\n",
      "C:\\Users\\kulaw\\Anaconda3\\lib\\site-packages\\ipykernel_launcher.py:9: RuntimeWarning: All-NaN slice encountered\n",
      "  if __name__ == '__main__':\n"
     ]
    }
   ],
   "source": [
    "rozmiary = [10, 11, 12, 13, 14, 15, 16, 18, 21]\n",
    "liczba_powtorzen = [100,100,100,100,100,100,50,50,5]\n",
    "najlepsze_czasy, najgorsze_czasy, srednie_czasy = obliczenia(rozmiary, liczba_powtorzen)"
   ]
  },
  {
   "cell_type": "code",
   "execution_count": 25,
   "metadata": {},
   "outputs": [
    {
     "name": "stdout",
     "output_type": "stream",
     "text": [
      "Rozmiar:  10 , liczba powtorzen:  100 , najgorsze_czasy:  0.199495 , najlepszy czas:  0.17154 , sredni czas:  0.18169729999999998\n",
      "Rozmiar:  11 , liczba powtorzen:  100 , najgorsze_czasy:  0.236366 , najlepszy czas:  0.19049 , sredni czas:  0.20037396999999996\n",
      "Rozmiar:  12 , liczba powtorzen:  100 , najgorsze_czasy:  0.092787 , najlepszy czas:  0.084773 , sredni czas:  0.08902312000000004\n",
      "Rozmiar:  13 , liczba powtorzen:  100 , najgorsze_czasy:  0.158577 , najlepszy czas:  0.136634 , sredni czas:  0.14454540000000007\n",
      "Rozmiar:  14 , liczba powtorzen:  100 , najgorsze_czasy:  0.179545 , najlepszy czas:  0.150597 , sredni czas:  0.15894510999999997\n",
      "Rozmiar:  15 , liczba powtorzen:  100 , najgorsze_czasy:  1.70843 , najlepszy czas:  1.63665 , sredni czas:  1.67092215\n",
      "Rozmiar:  16 , liczba powtorzen:  50 , najgorsze_czasy:  7.364317 , najlepszy czas:  6.858659 , sredni czas:  6.9453327599999986\n",
      "Rozmiar:  18 , liczba powtorzen:  50 , najgorsze_czasy:  6.581401 , najlepszy czas:  6.304169 , sredni czas:  6.37717462\n",
      "Rozmiar:  21 , liczba powtorzen:  5 , najgorsze_czasy:  608.380921 , najlepszy czas:  599.286108 , sredni czas:  603.0428648\n"
     ]
    }
   ],
   "source": [
    "for i in range(len(rozmiary)):\n",
    "    print('Rozmiar: ', rozmiary[i], ', liczba powtorzen: ', liczba_powtorzen[i], ', najgorsze_czasy: ', najgorsze_czasy[i], ', najlepszy czas: ', najlepsze_czasy[i], ', sredni czas: ', srednie_czasy[i])"
   ]
  },
  {
   "cell_type": "code",
   "execution_count": 26,
   "metadata": {},
   "outputs": [],
   "source": [
    "PRD = []\n",
    "for i in range(len(rozmiary)):\n",
    "    PRD.append(100*(srednie_czasy[i] - najlepsze_czasy[i])/srednie_czasy[i])"
   ]
  },
  {
   "cell_type": "code",
   "execution_count": 27,
   "metadata": {},
   "outputs": [],
   "source": [
    "df_branch_and_bound = pd.DataFrame({\n",
    "    'rozmiar' : rozmiary,\n",
    "    'liczba powtorzen' : liczba_powtorzen,\n",
    "    'najlepszy czas' : najlepsze_czasy,\n",
    "    'najgorszy czas' : najgorsze_czasy,\n",
    "    'sredni czas' : srednie_czasy,\n",
    "    'PRD' : PRD\n",
    "})"
   ]
  },
  {
   "cell_type": "code",
   "execution_count": 28,
   "metadata": {},
   "outputs": [
    {
     "data": {
      "text/html": [
       "<div>\n",
       "<style scoped>\n",
       "    .dataframe tbody tr th:only-of-type {\n",
       "        vertical-align: middle;\n",
       "    }\n",
       "\n",
       "    .dataframe tbody tr th {\n",
       "        vertical-align: top;\n",
       "    }\n",
       "\n",
       "    .dataframe thead th {\n",
       "        text-align: right;\n",
       "    }\n",
       "</style>\n",
       "<table border=\"1\" class=\"dataframe\">\n",
       "  <thead>\n",
       "    <tr style=\"text-align: right;\">\n",
       "      <th></th>\n",
       "      <th>rozmiar</th>\n",
       "      <th>liczba powtorzen</th>\n",
       "      <th>najlepszy czas</th>\n",
       "      <th>najgorszy czas</th>\n",
       "      <th>sredni czas</th>\n",
       "      <th>PRD</th>\n",
       "    </tr>\n",
       "  </thead>\n",
       "  <tbody>\n",
       "    <tr>\n",
       "      <td>0</td>\n",
       "      <td>10</td>\n",
       "      <td>100</td>\n",
       "      <td>0.171540</td>\n",
       "      <td>0.199495</td>\n",
       "      <td>0.181697</td>\n",
       "      <td>5.590232</td>\n",
       "    </tr>\n",
       "    <tr>\n",
       "      <td>1</td>\n",
       "      <td>11</td>\n",
       "      <td>100</td>\n",
       "      <td>0.190490</td>\n",
       "      <td>0.236366</td>\n",
       "      <td>0.200374</td>\n",
       "      <td>4.932761</td>\n",
       "    </tr>\n",
       "    <tr>\n",
       "      <td>2</td>\n",
       "      <td>12</td>\n",
       "      <td>100</td>\n",
       "      <td>0.084773</td>\n",
       "      <td>0.092787</td>\n",
       "      <td>0.089023</td>\n",
       "      <td>4.774176</td>\n",
       "    </tr>\n",
       "    <tr>\n",
       "      <td>3</td>\n",
       "      <td>13</td>\n",
       "      <td>100</td>\n",
       "      <td>0.136634</td>\n",
       "      <td>0.158577</td>\n",
       "      <td>0.144545</td>\n",
       "      <td>5.473298</td>\n",
       "    </tr>\n",
       "    <tr>\n",
       "      <td>4</td>\n",
       "      <td>14</td>\n",
       "      <td>100</td>\n",
       "      <td>0.150597</td>\n",
       "      <td>0.179545</td>\n",
       "      <td>0.158945</td>\n",
       "      <td>5.252197</td>\n",
       "    </tr>\n",
       "    <tr>\n",
       "      <td>5</td>\n",
       "      <td>15</td>\n",
       "      <td>100</td>\n",
       "      <td>1.636650</td>\n",
       "      <td>1.708430</td>\n",
       "      <td>1.670922</td>\n",
       "      <td>2.051092</td>\n",
       "    </tr>\n",
       "    <tr>\n",
       "      <td>6</td>\n",
       "      <td>16</td>\n",
       "      <td>50</td>\n",
       "      <td>6.858659</td>\n",
       "      <td>7.364317</td>\n",
       "      <td>6.945333</td>\n",
       "      <td>1.247943</td>\n",
       "    </tr>\n",
       "    <tr>\n",
       "      <td>7</td>\n",
       "      <td>18</td>\n",
       "      <td>50</td>\n",
       "      <td>6.304169</td>\n",
       "      <td>6.581401</td>\n",
       "      <td>6.377175</td>\n",
       "      <td>1.144796</td>\n",
       "    </tr>\n",
       "    <tr>\n",
       "      <td>8</td>\n",
       "      <td>21</td>\n",
       "      <td>5</td>\n",
       "      <td>599.286108</td>\n",
       "      <td>608.380921</td>\n",
       "      <td>603.042865</td>\n",
       "      <td>0.622967</td>\n",
       "    </tr>\n",
       "  </tbody>\n",
       "</table>\n",
       "</div>"
      ],
      "text/plain": [
       "   rozmiar  liczba powtorzen  najlepszy czas  najgorszy czas  sredni czas  \\\n",
       "0       10               100        0.171540        0.199495     0.181697   \n",
       "1       11               100        0.190490        0.236366     0.200374   \n",
       "2       12               100        0.084773        0.092787     0.089023   \n",
       "3       13               100        0.136634        0.158577     0.144545   \n",
       "4       14               100        0.150597        0.179545     0.158945   \n",
       "5       15               100        1.636650        1.708430     1.670922   \n",
       "6       16                50        6.858659        7.364317     6.945333   \n",
       "7       18                50        6.304169        6.581401     6.377175   \n",
       "8       21                 5      599.286108      608.380921   603.042865   \n",
       "\n",
       "        PRD  \n",
       "0  5.590232  \n",
       "1  4.932761  \n",
       "2  4.774176  \n",
       "3  5.473298  \n",
       "4  5.252197  \n",
       "5  2.051092  \n",
       "6  1.247943  \n",
       "7  1.144796  \n",
       "8  0.622967  "
      ]
     },
     "execution_count": 28,
     "metadata": {},
     "output_type": "execute_result"
    }
   ],
   "source": [
    "df_branch_and_bound"
   ]
  },
  {
   "cell_type": "code",
   "execution_count": 29,
   "metadata": {},
   "outputs": [],
   "source": [
    "df_branch_and_bound.to_csv('branch_and_bound.csv', encoding='utf-8', index=False)"
   ]
  },
  {
   "cell_type": "markdown",
   "metadata": {},
   "source": [
    "17 liczył całą noc i nie doliczył, braku pamięci nie wyrzucił"
   ]
  }
 ],
 "metadata": {
  "kernelspec": {
   "display_name": "Python 3",
   "language": "python",
   "name": "python3"
  },
  "language_info": {
   "codemirror_mode": {
    "name": "ipython",
    "version": 3
   },
   "file_extension": ".py",
   "mimetype": "text/x-python",
   "name": "python",
   "nbconvert_exporter": "python",
   "pygments_lexer": "ipython3",
   "version": "3.7.4"
  },
  "toc": {
   "base_numbering": 1,
   "nav_menu": {},
   "number_sections": true,
   "sideBar": true,
   "skip_h1_title": false,
   "title_cell": "Table of Contents",
   "title_sidebar": "Contents",
   "toc_cell": false,
   "toc_position": {},
   "toc_section_display": true,
   "toc_window_display": false
  },
  "varInspector": {
   "cols": {
    "lenName": 16,
    "lenType": 16,
    "lenVar": 40
   },
   "kernels_config": {
    "python": {
     "delete_cmd_postfix": "",
     "delete_cmd_prefix": "del ",
     "library": "var_list.py",
     "varRefreshCmd": "print(var_dic_list())"
    },
    "r": {
     "delete_cmd_postfix": ") ",
     "delete_cmd_prefix": "rm(",
     "library": "var_list.r",
     "varRefreshCmd": "cat(var_dic_list()) "
    }
   },
   "types_to_exclude": [
    "module",
    "function",
    "builtin_function_or_method",
    "instance",
    "_Feature"
   ],
   "window_display": false
  }
 },
 "nbformat": 4,
 "nbformat_minor": 2
}
